{
 "cells": [
  {
   "cell_type": "markdown",
   "metadata": {},
   "source": [
    "# Project: Identify Customer Segments\n",
    "\n",
    "In this project, you will apply unsupervised learning techniques to identify segments of the population that form the core customer base for a mail-order sales company in Germany. These segments can then be used to direct marketing campaigns towards audiences that will have the highest expected rate of returns. The data that you will use has been provided by our partners at Bertelsmann Arvato Analytics, and represents a real-life data science task.\n",
    "\n",
    "This notebook will help you complete this task by providing a framework within which you will perform your analysis steps. In each step of the project, you will see some text describing the subtask that you will perform, followed by one or more code cells for you to complete your work. **Feel free to add additional code and markdown cells as you go along so that you can explore everything in precise chunks.** The code cells provided in the base template will outline only the major tasks, and will usually not be enough to cover all of the minor tasks that comprise it.\n",
    "\n",
    "It should be noted that while there will be precise guidelines on how you should handle certain tasks in the project, there will also be places where an exact specification is not provided. **There will be times in the project where you will need to make and justify your own decisions on how to treat the data.** These are places where there may not be only one way to handle the data. In real-life tasks, there may be many valid ways to approach an analysis task. One of the most important things you can do is clearly document your approach so that other scientists can understand the decisions you've made.\n",
    "\n",
    "At the end of most sections, there will be a Markdown cell labeled **Discussion**. In these cells, you will report your findings for the completed section, as well as document the decisions that you made in your approach to each subtask. **Your project will be evaluated not just on the code used to complete the tasks outlined, but also your communication about your observations and conclusions at each stage.**"
   ]
  },
  {
   "cell_type": "code",
   "execution_count": 168,
   "metadata": {},
   "outputs": [
    {
     "data": {
      "text/plain": [
       "'\\nImport note: The classroom currently uses sklearn version 0.19.\\nIf you need to use an imputer, it is available in sklearn.preprocessing.Imputer,\\ninstead of sklearn.impute as in newer versions of sklearn.\\n'"
      ]
     },
     "execution_count": 168,
     "metadata": {},
     "output_type": "execute_result"
    }
   ],
   "source": [
    "# import libraries here; add more as necessary\n",
    "import numpy as np\n",
    "import pandas as pd\n",
    "import matplotlib.pyplot as plt\n",
    "import seaborn as sns\n",
    "from sklearn.preprocessing import Imputer\n",
    "from sklearn.decomposition import PCA\n",
    "from sklearn.preprocessing import StandardScaler\n",
    "from sklearn.cluster import KMeans\n",
    "\n",
    "# magic word for producing visualizations in notebook\n",
    "%matplotlib inline\n",
    "\n",
    "'''\n",
    "Import note: The classroom currently uses sklearn version 0.19.\n",
    "If you need to use an imputer, it is available in sklearn.preprocessing.Imputer,\n",
    "instead of sklearn.impute as in newer versions of sklearn.\n",
    "'''"
   ]
  },
  {
   "cell_type": "markdown",
   "metadata": {},
   "source": [
    "### Step 0: Load the Data\n",
    "\n",
    "There are four files associated with this project (not including this one):\n",
    "\n",
    "- `Udacity_AZDIAS_Subset.csv`: Demographics data for the general population of Germany; 891211 persons (rows) x 85 features (columns).\n",
    "- `Udacity_CUSTOMERS_Subset.csv`: Demographics data for customers of a mail-order company; 191652 persons (rows) x 85 features (columns).\n",
    "- `Data_Dictionary.md`: Detailed information file about the features in the provided datasets.\n",
    "- `AZDIAS_Feature_Summary.csv`: Summary of feature attributes for demographics data; 85 features (rows) x 4 columns\n",
    "\n",
    "Each row of the demographics files represents a single person, but also includes information outside of individuals, including information about their household, building, and neighborhood. You will use this information to cluster the general population into groups with similar demographic properties. Then, you will see how the people in the customers dataset fit into those created clusters. The hope here is that certain clusters are over-represented in the customers data, as compared to the general population; those over-represented clusters will be assumed to be part of the core userbase. This information can then be used for further applications, such as targeting for a marketing campaign.\n",
    "\n",
    "To start off with, load in the demographics data for the general population into a pandas DataFrame, and do the same for the feature attributes summary. Note for all of the `.csv` data files in this project: they're semicolon (`;`) delimited, so you'll need an additional argument in your [`read_csv()`](https://pandas.pydata.org/pandas-docs/stable/generated/pandas.read_csv.html) call to read in the data properly. Also, considering the size of the main dataset, it may take some time for it to load completely.\n",
    "\n",
    "Once the dataset is loaded, it's recommended that you take a little bit of time just browsing the general structure of the dataset and feature summary file. You'll be getting deep into the innards of the cleaning in the first major step of the project, so gaining some general familiarity can help you get your bearings."
   ]
  },
  {
   "cell_type": "code",
   "execution_count": 169,
   "metadata": {},
   "outputs": [],
   "source": [
    "# Load in the general demographics data.\n",
    "azdias = pd.read_csv('Udacity_AZDIAS_Subset.csv', delimiter=';')\n",
    "\n",
    "# Load in the feature summary file.\n",
    "feat_info = pd.read_csv('AZDIAS_Feature_Summary.csv', delimiter=';')"
   ]
  },
  {
   "cell_type": "markdown",
   "metadata": {},
   "source": [
    "> **Tip**: Add additional cells to keep everything in reasonably-sized chunks! Keyboard shortcut `esc --> a` (press escape to enter command mode, then press the 'A' key) adds a new cell before the active cell, and `esc --> b` adds a new cell after the active cell. If you need to convert an active cell to a markdown cell, use `esc --> m` and to convert to a code cell, use `esc --> y`. \n",
    "\n",
    "## Step 1: Preprocessing\n",
    "\n",
    "### Step 1.1: Assess Missing Data\n",
    "\n",
    "The feature summary file contains a summary of properties for each demographics data column. You will use this file to help you make cleaning decisions during this stage of the project. First of all, you should assess the demographics data in terms of missing data. Pay attention to the following points as you perform your analysis, and take notes on what you observe. Make sure that you fill in the **Discussion** cell with your findings and decisions at the end of each step that has one!\n",
    "\n",
    "#### Step 1.1.1: Convert Missing Value Codes to NaNs\n",
    "The fourth column of the feature attributes summary (loaded in above as `feat_info`) documents the codes from the data dictionary that indicate missing or unknown data. While the file encodes this as a list (e.g. `[-1,0]`), this will get read in as a string object. You'll need to do a little bit of parsing to make use of it to identify and clean the data. Convert data that matches a 'missing' or 'unknown' value code into a numpy NaN value. You might want to see how much data takes on a 'missing' or 'unknown' code, and how much data is naturally missing, as a point of interest.\n",
    "\n",
    "**As one more reminder, you are encouraged to add additional cells to break up your analysis into manageable chunks.**"
   ]
  },
  {
   "cell_type": "code",
   "execution_count": 170,
   "metadata": {
    "scrolled": false
   },
   "outputs": [
    {
     "data": {
      "text/html": [
       "<div>\n",
       "<style scoped>\n",
       "    .dataframe tbody tr th:only-of-type {\n",
       "        vertical-align: middle;\n",
       "    }\n",
       "\n",
       "    .dataframe tbody tr th {\n",
       "        vertical-align: top;\n",
       "    }\n",
       "\n",
       "    .dataframe thead th {\n",
       "        text-align: right;\n",
       "    }\n",
       "</style>\n",
       "<table border=\"1\" class=\"dataframe\">\n",
       "  <thead>\n",
       "    <tr style=\"text-align: right;\">\n",
       "      <th></th>\n",
       "      <th>attribute</th>\n",
       "      <th>information_level</th>\n",
       "      <th>type</th>\n",
       "      <th>missing_or_unknown</th>\n",
       "    </tr>\n",
       "  </thead>\n",
       "  <tbody>\n",
       "    <tr>\n",
       "      <th>0</th>\n",
       "      <td>AGER_TYP</td>\n",
       "      <td>person</td>\n",
       "      <td>categorical</td>\n",
       "      <td>[-1,0]</td>\n",
       "    </tr>\n",
       "    <tr>\n",
       "      <th>1</th>\n",
       "      <td>ALTERSKATEGORIE_GROB</td>\n",
       "      <td>person</td>\n",
       "      <td>ordinal</td>\n",
       "      <td>[-1,0,9]</td>\n",
       "    </tr>\n",
       "    <tr>\n",
       "      <th>2</th>\n",
       "      <td>ANREDE_KZ</td>\n",
       "      <td>person</td>\n",
       "      <td>categorical</td>\n",
       "      <td>[-1,0]</td>\n",
       "    </tr>\n",
       "    <tr>\n",
       "      <th>3</th>\n",
       "      <td>CJT_GESAMTTYP</td>\n",
       "      <td>person</td>\n",
       "      <td>categorical</td>\n",
       "      <td>[0]</td>\n",
       "    </tr>\n",
       "    <tr>\n",
       "      <th>4</th>\n",
       "      <td>FINANZ_MINIMALIST</td>\n",
       "      <td>person</td>\n",
       "      <td>ordinal</td>\n",
       "      <td>[-1]</td>\n",
       "    </tr>\n",
       "  </tbody>\n",
       "</table>\n",
       "</div>"
      ],
      "text/plain": [
       "              attribute information_level         type missing_or_unknown\n",
       "0              AGER_TYP            person  categorical             [-1,0]\n",
       "1  ALTERSKATEGORIE_GROB            person      ordinal           [-1,0,9]\n",
       "2             ANREDE_KZ            person  categorical             [-1,0]\n",
       "3         CJT_GESAMTTYP            person  categorical                [0]\n",
       "4     FINANZ_MINIMALIST            person      ordinal               [-1]"
      ]
     },
     "execution_count": 170,
     "metadata": {},
     "output_type": "execute_result"
    }
   ],
   "source": [
    "# Identify missing or unknown data values and convert them to NaNs.\n",
    "feat_info.head()"
   ]
  },
  {
   "cell_type": "code",
   "execution_count": 171,
   "metadata": {},
   "outputs": [],
   "source": [
    "# Identify missing_or_unknown data values and convert them to NaNs.\n",
    "for idx in feat_info.index:\n",
    "    feat_info.loc[idx, \"missing_or_unknown\"] = feat_info.loc[idx, \"missing_or_unknown\"].strip(\"[]\").split(\",\")\n",
    "    for item in range(len(feat_info.loc[idx,\"missing_or_unknown\"])):\n",
    "        try:\n",
    "            feat_info.loc[idx,\"missing_or_unknown\"][item] = int(feat_info.loc[idx,\"missing_or_unknown\"][item])\n",
    "        except:\n",
    "            continue\n",
    "    azdias.loc[:,(feat_info.loc[idx, \"attribute\"])].replace(feat_info.loc[idx,\"missing_or_unknown\"], np.nan, inplace=True)"
   ]
  },
  {
   "cell_type": "markdown",
   "metadata": {},
   "source": [
    "#### Step 1.1.2: Assess Missing Data in Each Column\n",
    "\n",
    "How much missing data is present in each column? There are a few columns that are outliers in terms of the proportion of values that are missing. You will want to use matplotlib's [`hist()`](https://matplotlib.org/api/_as_gen/matplotlib.pyplot.hist.html) function to visualize the distribution of missing value counts to find these columns. Identify and document these columns. While some of these columns might have justifications for keeping or re-encoding the data, for this project you should just remove them from the dataframe. (Feel free to make remarks about these outlier columns in the discussion, however!)\n",
    "\n",
    "For the remaining features, are there any patterns in which columns have, or share, missing data?"
   ]
  },
  {
   "cell_type": "code",
   "execution_count": 172,
   "metadata": {},
   "outputs": [
    {
     "data": {
      "text/plain": [
       "AGER_TYP                 685843\n",
       "ALTERSKATEGORIE_GROB       2881\n",
       "ANREDE_KZ                     0\n",
       "CJT_GESAMTTYP              4854\n",
       "FINANZ_MINIMALIST             0\n",
       "FINANZ_SPARER                 0\n",
       "FINANZ_VORSORGER              0\n",
       "FINANZ_ANLEGER                0\n",
       "FINANZ_UNAUFFAELLIGER         0\n",
       "FINANZ_HAUSBAUER              0\n",
       "FINANZTYP                     0\n",
       "GEBURTSJAHR              392318\n",
       "GFK_URLAUBERTYP            4854\n",
       "GREEN_AVANTGARDE              0\n",
       "HEALTH_TYP               111196\n",
       "LP_LEBENSPHASE_FEIN       97632\n",
       "LP_LEBENSPHASE_GROB       94572\n",
       "LP_FAMILIE_FEIN           77792\n",
       "LP_FAMILIE_GROB           77792\n",
       "LP_STATUS_FEIN             4854\n",
       "LP_STATUS_GROB             4854\n",
       "NATIONALITAET_KZ         108315\n",
       "PRAEGENDE_JUGENDJAHRE    108164\n",
       "RETOURTYP_BK_S             4854\n",
       "SEMIO_SOZ                     0\n",
       "SEMIO_FAM                     0\n",
       "SEMIO_REL                     0\n",
       "SEMIO_MAT                     0\n",
       "SEMIO_VERT                    0\n",
       "SEMIO_LUST                    0\n",
       "                          ...  \n",
       "OST_WEST_KZ               93148\n",
       "WOHNLAGE                  93148\n",
       "CAMEO_DEUG_2015           99352\n",
       "CAMEO_DEU_2015            99352\n",
       "CAMEO_INTL_2015           99352\n",
       "KBA05_ANTG1              133324\n",
       "KBA05_ANTG2              133324\n",
       "KBA05_ANTG3              133324\n",
       "KBA05_ANTG4              133324\n",
       "KBA05_BAUMAX             476524\n",
       "KBA05_GBZ                133324\n",
       "BALLRAUM                  93740\n",
       "EWDICHTE                  93740\n",
       "INNENSTADT                93740\n",
       "GEBAEUDETYP_RASTER        93155\n",
       "KKK                      158064\n",
       "MOBI_REGIO               133324\n",
       "ONLINE_AFFINITAET          4854\n",
       "REGIOTYP                 158064\n",
       "KBA13_ANZAHL_PKW         105800\n",
       "PLZ8_ANTG1               116515\n",
       "PLZ8_ANTG2               116515\n",
       "PLZ8_ANTG3               116515\n",
       "PLZ8_ANTG4               116515\n",
       "PLZ8_BAUMAX              116515\n",
       "PLZ8_HHZ                 116515\n",
       "PLZ8_GBZ                 116515\n",
       "ARBEIT                    97375\n",
       "ORTSGR_KLS9               97274\n",
       "RELAT_AB                  97375\n",
       "Length: 85, dtype: int64"
      ]
     },
     "execution_count": 172,
     "metadata": {},
     "output_type": "execute_result"
    }
   ],
   "source": [
    "# Perform an assessment of how much missing data there is in each column of the\n",
    "# dataset.\n",
    "\n",
    "missing_cols = azdias.isnull().sum()\n",
    "missing_cols"
   ]
  },
  {
   "cell_type": "code",
   "execution_count": 173,
   "metadata": {},
   "outputs": [
    {
     "data": {
      "image/png": "[encoded data removed]",
      "text/plain": [
       "<matplotlib.figure.Figure at 0x7f8646bef4a8>"
      ]
     },
     "metadata": {
      "needs_background": "light"
     },
     "output_type": "display_data"
    }
   ],
   "source": [
    "# Investigate patterns in the amount of missing data in each column.\n",
    "plt.hist(missing_cols, bins = 15)\n",
    "plt.xlabel(\"# of missing values in column\")\n",
    "plt.ylabel(\"Col counts\")\n",
    "plt.title(\"Hist representation of the count of missing values in columns\")\n",
    "plt.show()"
   ]
  },
  {
   "cell_type": "code",
   "execution_count": 7,
   "metadata": {},
   "outputs": [
    {
     "data": {
      "image/png": "[encoded data removed]",
      "text/plain": [
       "<matplotlib.figure.Figure at 0x7f8651ecd978>"
      ]
     },
     "metadata": {
      "needs_background": "light"
     },
     "output_type": "display_data"
    }
   ],
   "source": [
    "plot_cols = missing_cols[missing_cols>0] # drop 0 count cols\n",
    "plot_cols.sort_values(inplace=True)\n",
    "plot_cols.plot.bar(figsize=(24,12))\n",
    "plt.xlabel(\"Feature\")\n",
    "plt.ylabel(\"Missing values\")\n",
    "plt.title(\"Barchart of counts of missing values\")\n",
    "plt.show()"
   ]
  },
  {
   "cell_type": "markdown",
   "metadata": {},
   "source": [
    "As seen from the plot, there are 6 cols with missing values > 200000. We will be dropping these from dataset"
   ]
  },
  {
   "cell_type": "code",
   "execution_count": 174,
   "metadata": {},
   "outputs": [
    {
     "data": {
      "text/plain": [
       "(891221, 79)"
      ]
     },
     "execution_count": 174,
     "metadata": {},
     "output_type": "execute_result"
    }
   ],
   "source": [
    "# Remove the outlier columns from the dataset. (You'll perform other data\n",
    "# engineering tasks such as re-encoding and imputation later.)\n",
    "outlier_cols = missing_cols[missing_cols>200000]\n",
    "azdias.drop(outlier_cols.index, axis=1, inplace=True)\n",
    "azdias.shape"
   ]
  },
  {
   "cell_type": "markdown",
   "metadata": {},
   "source": [
    "#### Discussion 1.1.2: Assess Missing Data in Each Column\n",
    "\n",
    "Columns 'AGER_TYP', 'GEBURTSJAHR', 'TITEL_KZ', 'ALTER_HH', 'KK_KUNDENTYP', 'KBA05_BAUMAX' contain more than 200000 missing values. That is disproportionate when compared to the rest of the columns (as seen in the graph). So we drop them from dataset as outliers."
   ]
  },
  {
   "cell_type": "markdown",
   "metadata": {},
   "source": [
    "#### Step 1.1.3: Assess Missing Data in Each Row\n",
    "\n",
    "Now, you'll perform a similar assessment for the rows of the dataset. How much data is missing in each row? As with the columns, you should see some groups of points that have a very different numbers of missing values. Divide the data into two subsets: one for data points that are above some threshold for missing values, and a second subset for points below that threshold.\n",
    "\n",
    "In order to know what to do with the outlier rows, we should see if the distribution of data values on columns that are not missing data (or are missing very little data) are similar or different between the two groups. Select at least five of these columns and compare the distribution of values.\n",
    "- You can use seaborn's [`countplot()`](https://seaborn.pydata.org/generated/seaborn.countplot.html) function to create a bar chart of code frequencies and matplotlib's [`subplot()`](https://matplotlib.org/api/_as_gen/matplotlib.pyplot.subplot.html) function to put bar charts for the two subplots side by side.\n",
    "- To reduce repeated code, you might want to write a function that can perform this comparison, taking as one of its arguments a column to be compared.\n",
    "\n",
    "Depending on what you observe in your comparison, this will have implications on how you approach your conclusions later in the analysis. If the distributions of non-missing features look similar between the data with many missing values and the data with few or no missing values, then we could argue that simply dropping those points from the analysis won't present a major issue. On the other hand, if the data with many missing values looks very different from the data with few or no missing values, then we should make a note on those data as special. We'll revisit these data later on. **Either way, you should continue your analysis for now using just the subset of the data with few or no missing values.**"
   ]
  },
  {
   "cell_type": "code",
   "execution_count": 175,
   "metadata": {},
   "outputs": [
    {
     "data": {
      "text/plain": [
       "268012"
      ]
     },
     "execution_count": 175,
     "metadata": {},
     "output_type": "execute_result"
    }
   ],
   "source": [
    "# How much data is missing in each row of the dataset?\n",
    "sum(azdias.isnull().any(axis = 1))\n"
   ]
  },
  {
   "cell_type": "code",
   "execution_count": 176,
   "metadata": {},
   "outputs": [
    {
     "data": {
      "text/plain": [
       "array([[<matplotlib.axes._subplots.AxesSubplot object at 0x7f8646e75940>]], dtype=object)"
      ]
     },
     "execution_count": 176,
     "metadata": {},
     "output_type": "execute_result"
    },
    {
     "data": {
      "image/png": "[encoded data removed]",
      "text/plain": [
       "<matplotlib.figure.Figure at 0x7f8646b8be48>"
      ]
     },
     "metadata": {
      "needs_background": "light"
     },
     "output_type": "display_data"
    }
   ],
   "source": [
    "missing_rows = pd.DataFrame(azdias.isnull().sum(axis = 1), columns = [\"missing_in_rows\"])\n",
    "missing_rows.hist()"
   ]
  },
  {
   "cell_type": "markdown",
   "metadata": {},
   "source": [
    "From the above hist, it seems that 20 is good choice for threshold"
   ]
  },
  {
   "cell_type": "code",
   "execution_count": 177,
   "metadata": {},
   "outputs": [],
   "source": [
    "# Write code to divide the data into two subsets based on the number of missing\n",
    "# values in each row.\n",
    "threshold = 20\n",
    "num_missing = azdias.isnull().transpose().sum()\n",
    "azdias_missing_below_threshold = azdias[num_missing < threshold]\n",
    "azdias_missing_above_threshold = azdias[num_missing >= threshold]\n",
    "num_azdias_missing_below_threshold = azdias_missing_below_threshold.isnull().transpose().sum()\n",
    "num_azdias_missing_above_threshold = azdias_missing_above_threshold.isnull().transpose().sum()"
   ]
  },
  {
   "cell_type": "code",
   "execution_count": 178,
   "metadata": {},
   "outputs": [],
   "source": [
    "def compare_cols(df1, df2, column):\n",
    "    fig, ax = plt.subplots(nrows = 1, ncols = 2, figsize = (18,  4))\n",
    "    ax[0].set_title(f\"Data with below {threshold} missing per row\")\n",
    "    sns.countplot(df1[column], ax = ax[0])\n",
    "    ax[1].set_title(f\"Data with above {threshold} missing per row\")\n",
    "    sns.countplot(df2[column], ax = ax[1])\n",
    "    plt.subplots_adjust(wspace= 0.5)\n",
    "    fig.show()"
   ]
  },
  {
   "cell_type": "code",
   "execution_count": 179,
   "metadata": {},
   "outputs": [
    {
     "name": "stderr",
     "output_type": "stream",
     "text": [
      "/opt/conda/lib/python3.6/site-packages/matplotlib/figure.py:418: UserWarning: matplotlib is currently using a non-GUI backend, so cannot show the figure\n",
      "  \"matplotlib is currently using a non-GUI backend, \"\n"
     ]
    },
    {
     "data": {
      "image/png": "[encoded data removed]",
      "text/plain": [
       "<matplotlib.figure.Figure at 0x7f864de6cb00>"
      ]
     },
     "metadata": {
      "needs_background": "light"
     },
     "output_type": "display_data"
    },
    {
     "data": {
      "image/png": "[encoded data removed]",
      "text/plain": [
       "<matplotlib.figure.Figure at 0x7f8645784da0>"
      ]
     },
     "metadata": {
      "needs_background": "light"
     },
     "output_type": "display_data"
    },
    {
     "data": {
      "image/png": "[encoded data removed]",
      "text/plain": [
       "<matplotlib.figure.Figure at 0x7f8646b62eb8>"
      ]
     },
     "metadata": {
      "needs_background": "light"
     },
     "output_type": "display_data"
    },
    {
     "data": {
      "image/png": "[encoded data removed]",
      "text/plain": [
       "<matplotlib.figure.Figure at 0x7f8646ab41d0>"
      ]
     },
     "metadata": {
      "needs_background": "light"
     },
     "output_type": "display_data"
    },
    {
     "data": {
      "image/png": "[encoded data removed]",
      "text/plain": [
       "<matplotlib.figure.Figure at 0x7f8646a14fd0>"
      ]
     },
     "metadata": {
      "needs_background": "light"
     },
     "output_type": "display_data"
    },
    {
     "data": {
      "image/png": "[encoded data removed]",
      "text/plain": [
       "<matplotlib.figure.Figure at 0x7f864697f668>"
      ]
     },
     "metadata": {
      "needs_background": "light"
     },
     "output_type": "display_data"
    },
    {
     "data": {
      "image/png": "[encoded data removed]",
      "text/plain": [
       "<matplotlib.figure.Figure at 0x7f86468d9a20>"
      ]
     },
     "metadata": {
      "needs_background": "light"
     },
     "output_type": "display_data"
    },
    {
     "data": {
      "image/png": "[encoded data removed]",
      "text/plain": [
       "<matplotlib.figure.Figure at 0x7f86467c7cc0>"
      ]
     },
     "metadata": {
      "needs_background": "light"
     },
     "output_type": "display_data"
    },
    {
     "data": {
      "image/png": "[encoded data removed]",
      "text/plain": [
       "<matplotlib.figure.Figure at 0x7f86467803c8>"
      ]
     },
     "metadata": {
      "needs_background": "light"
     },
     "output_type": "display_data"
    },
    {
     "data": {
      "image/png": "[encoded data removed]",
      "text/plain": [
       "<matplotlib.figure.Figure at 0x7f86466ddc18>"
      ]
     },
     "metadata": {
      "needs_background": "light"
     },
     "output_type": "display_data"
    }
   ],
   "source": [
    "for column in azdias.columns[0:10]:\n",
    "    compare_cols(azdias_missing_below_threshold, azdias_missing_above_threshold, column)"
   ]
  },
  {
   "cell_type": "markdown",
   "metadata": {},
   "source": [
    "#### Discussion 1.1.3: Assess Missing Data in Each Row\n",
    "\n",
    "From the side by side comparison it's evident that the for most of the first 10 columns, data with many missing values looks qualitatively different from the data with few or no missing values. We continue our analysis for now using just the subset of the data with few or no missing values."
   ]
  },
  {
   "cell_type": "markdown",
   "metadata": {},
   "source": [
    "### Step 1.2: Select and Re-Encode Features\n",
    "\n",
    "Checking for missing data isn't the only way in which you can prepare a dataset for analysis. Since the unsupervised learning techniques to be used will only work on data that is encoded numerically, you need to make a few encoding changes or additional assumptions to be able to make progress. In addition, while almost all of the values in the dataset are encoded using numbers, not all of them represent numeric values. Check the third column of the feature summary (`feat_info`) for a summary of types of measurement.\n",
    "- For numeric and interval data, these features can be kept without changes.\n",
    "- Most of the variables in the dataset are ordinal in nature. While ordinal values may technically be non-linear in spacing, make the simplifying assumption that the ordinal variables can be treated as being interval in nature (that is, kept without any changes).\n",
    "- Special handling may be necessary for the remaining two variable types: categorical, and 'mixed'.\n",
    "\n",
    "In the first two parts of this sub-step, you will perform an investigation of the categorical and mixed-type features and make a decision on each of them, whether you will keep, drop, or re-encode each. Then, in the last part, you will create a new data frame with only the selected and engineered columns.\n",
    "\n",
    "Data wrangling is often the trickiest part of the data analysis process, and there's a lot of it to be done here. But stick with it: once you're done with this step, you'll be ready to get to the machine learning parts of the project!"
   ]
  },
  {
   "cell_type": "code",
   "execution_count": 180,
   "metadata": {},
   "outputs": [
    {
     "data": {
      "text/plain": [
       "ordinal        49\n",
       "categorical    21\n",
       "mixed           7\n",
       "numeric         7\n",
       "interval        1\n",
       "Name: type, dtype: int64"
      ]
     },
     "execution_count": 180,
     "metadata": {},
     "output_type": "execute_result"
    }
   ],
   "source": [
    "# How many features are there of each data type?\n",
    "feat_info.type.value_counts ()\n"
   ]
  },
  {
   "cell_type": "markdown",
   "metadata": {},
   "source": [
    "#### Step 1.2.1: Re-Encode Categorical Features\n",
    "\n",
    "For categorical data, you would ordinarily need to encode the levels as dummy variables. Depending on the number of categories, perform one of the following:\n",
    "- For binary (two-level) categoricals that take numeric values, you can keep them without needing to do anything.\n",
    "- There is one binary variable that takes on non-numeric values. For this one, you need to re-encode the values as numbers or create a dummy variable.\n",
    "- For multi-level categoricals (three or more values), you can choose to encode the values using multiple dummy variables (e.g. via [OneHotEncoder](http://scikit-learn.org/stable/modules/generated/sklearn.preprocessing.OneHotEncoder.html)), or (to keep things straightforward) just drop them from the analysis. As always, document your choices in the Discussion section."
   ]
  },
  {
   "cell_type": "code",
   "execution_count": 181,
   "metadata": {},
   "outputs": [
    {
     "name": "stdout",
     "output_type": "stream",
     "text": [
      "\n",
      "Categorical Cols\n",
      " ANREDE_KZ            2\n",
      "CJT_GESAMTTYP        6\n",
      "FINANZTYP            6\n",
      "GFK_URLAUBERTYP     12\n",
      "GREEN_AVANTGARDE     2\n",
      "LP_FAMILIE_FEIN     11\n",
      "LP_FAMILIE_GROB      5\n",
      "LP_STATUS_FEIN      10\n",
      "LP_STATUS_GROB       5\n",
      "NATIONALITAET_KZ     3\n",
      "SHOPPER_TYP          4\n",
      "SOHO_KZ              2\n",
      "VERS_TYP             2\n",
      "ZABEOTYP             6\n",
      "GEBAEUDETYP          7\n",
      "OST_WEST_KZ          2\n",
      "CAMEO_DEUG_2015      9\n",
      "CAMEO_DEU_2015      44\n",
      "dtype: int64\n",
      "\n",
      "Binary Cols\n",
      " ANREDE_KZ           2\n",
      "GREEN_AVANTGARDE    2\n",
      "SOHO_KZ             2\n",
      "VERS_TYP            2\n",
      "OST_WEST_KZ         2\n",
      "dtype: int64\n",
      "\n",
      "Multilevel Cols\n",
      " CJT_GESAMTTYP        6\n",
      "FINANZTYP            6\n",
      "GFK_URLAUBERTYP     12\n",
      "LP_FAMILIE_FEIN     11\n",
      "LP_FAMILIE_GROB      5\n",
      "LP_STATUS_FEIN      10\n",
      "LP_STATUS_GROB       5\n",
      "NATIONALITAET_KZ     3\n",
      "SHOPPER_TYP          4\n",
      "ZABEOTYP             6\n",
      "GEBAEUDETYP          7\n",
      "CAMEO_DEUG_2015      9\n",
      "CAMEO_DEU_2015      44\n",
      "dtype: int64\n"
     ]
    }
   ],
   "source": [
    "# Assess categorical variables: which are binary, which are multi-level, and\n",
    "# which one needs to be re-encoded?\n",
    "categorical =  feat_info[feat_info[\"type\"] == \"categorical\"][\"attribute\"].tolist()\n",
    "categorical = [col for col in categorical if col in azdias_missing_below_threshold.columns]\n",
    "binary = [col for col in categorical if azdias_missing_below_threshold[col].nunique() == 2]\n",
    "multilevel = [col for col in categorical if azdias_missing_below_threshold[col].nunique() > 2]\n",
    "print(\"\\nCategorical Cols\\n\", azdias_missing_below_threshold[categorical].nunique())\n",
    "print(\"\\nBinary Cols\\n\", azdias_missing_below_threshold[binary].nunique())\n",
    "print(\"\\nMultilevel Cols\\n\", azdias_missing_below_threshold[multilevel].nunique())"
   ]
  },
  {
   "cell_type": "code",
   "execution_count": 182,
   "metadata": {},
   "outputs": [
    {
     "name": "stderr",
     "output_type": "stream",
     "text": [
      "/opt/conda/lib/python3.6/site-packages/pandas/core/frame.py:3697: SettingWithCopyWarning: \n",
      "A value is trying to be set on a copy of a slice from a DataFrame\n",
      "\n",
      "See the caveats in the documentation: http://pandas.pydata.org/pandas-docs/stable/indexing.html#indexing-view-versus-copy\n",
      "  errors=errors)\n"
     ]
    }
   ],
   "source": [
    "# CAMEO_DEU_2015 has too many levels when compared to other cols so we drop it\n",
    "multilevel.remove(\"CAMEO_DEU_2015\")\n",
    "azdias_missing_below_threshold.drop(\"CAMEO_DEU_2015\", axis=1, inplace=True)"
   ]
  },
  {
   "cell_type": "code",
   "execution_count": 183,
   "metadata": {},
   "outputs": [
    {
     "name": "stdout",
     "output_type": "stream",
     "text": [
      "Binary variable that takes on non-numeric values is OST_WEST_KZ\n"
     ]
    }
   ],
   "source": [
    "non_numeric_binary_col = None\n",
    "for col in binary:\n",
    "    s = azdias[col]\n",
    "    if not np.issubdtype(s.dtype, np.number):\n",
    "        non_numeric_binary_col = col\n",
    "        print(f\"Binary variable that takes on non-numeric values is {non_numeric_binary_col}\")\n",
    "        break"
   ]
  },
  {
   "cell_type": "code",
   "execution_count": 184,
   "metadata": {},
   "outputs": [
    {
     "data": {
      "text/plain": [
       "array([nan, 'W', 'O'], dtype=object)"
      ]
     },
     "execution_count": 184,
     "metadata": {},
     "output_type": "execute_result"
    }
   ],
   "source": [
    "azdias[non_numeric_binary_col].unique()"
   ]
  },
  {
   "cell_type": "code",
   "execution_count": 185,
   "metadata": {},
   "outputs": [
    {
     "name": "stderr",
     "output_type": "stream",
     "text": [
      "/opt/conda/lib/python3.6/site-packages/pandas/core/generic.py:5890: SettingWithCopyWarning: \n",
      "A value is trying to be set on a copy of a slice from a DataFrame\n",
      "\n",
      "See the caveats in the documentation: http://pandas.pydata.org/pandas-docs/stable/indexing.html#indexing-view-versus-copy\n",
      "  self._update_inplace(new_data)\n"
     ]
    }
   ],
   "source": [
    "azdias_missing_below_threshold.loc[:, non_numeric_binary_col].replace({\"W\": 0, \"O\": 1}, inplace=True)"
   ]
  },
  {
   "cell_type": "code",
   "execution_count": 186,
   "metadata": {},
   "outputs": [
    {
     "data": {
      "text/plain": [
       "array([0, 1])"
      ]
     },
     "execution_count": 186,
     "metadata": {},
     "output_type": "execute_result"
    }
   ],
   "source": [
    "azdias_missing_below_threshold[non_numeric_binary_col].unique()"
   ]
  },
  {
   "cell_type": "code",
   "execution_count": 187,
   "metadata": {},
   "outputs": [],
   "source": [
    "# Re-encode categorical variable(s) to be kept in the analysis.\n",
    "azdias_missing_below_threshold = pd.get_dummies(azdias_missing_below_threshold, columns = multilevel)"
   ]
  },
  {
   "cell_type": "code",
   "execution_count": 188,
   "metadata": {},
   "outputs": [
    {
     "data": {
      "text/plain": [
       "(797077, 150)"
      ]
     },
     "execution_count": 188,
     "metadata": {},
     "output_type": "execute_result"
    }
   ],
   "source": [
    "azdias_missing_below_threshold.shape"
   ]
  },
  {
   "cell_type": "markdown",
   "metadata": {},
   "source": [
    "#### Discussion 1.2.1: Re-Encode Categorical Features\n",
    "\n",
    "All categorical features are kept except \"CAMEO_DEU_2015\" because of excessive levels that would result in 44 dummy variables that seems excessive. We converted the only non-numeric binary variable \"OST_WEST_KZ\" into numeric binary variable. The rest of the multilevel caegorical variables were one-hot encoded using pd.get_dummies."
   ]
  },
  {
   "cell_type": "markdown",
   "metadata": {},
   "source": [
    "#### Step 1.2.2: Engineer Mixed-Type Features\n",
    "\n",
    "There are a handful of features that are marked as \"mixed\" in the feature summary that require special treatment in order to be included in the analysis. There are two in particular that deserve attention; the handling of the rest are up to your own choices:\n",
    "- \"PRAEGENDE_JUGENDJAHRE\" combines information on three dimensions: generation by decade, movement (mainstream vs. avantgarde), and nation (east vs. west). While there aren't enough levels to disentangle east from west, you should create two new variables to capture the other two dimensions: an interval-type variable for decade, and a binary variable for movement.\n",
    "- \"CAMEO_INTL_2015\" combines information on two axes: wealth and life stage. Break up the two-digit codes by their 'tens'-place and 'ones'-place digits into two new ordinal variables (which, for the purposes of this project, is equivalent to just treating them as their raw numeric values).\n",
    "- If you decide to keep or engineer new features around the other mixed-type features, make sure you note your steps in the Discussion section.\n",
    "\n",
    "Be sure to check `Data_Dictionary.md` for the details needed to finish these tasks."
   ]
  },
  {
   "cell_type": "code",
   "execution_count": 189,
   "metadata": {},
   "outputs": [
    {
     "data": {
      "text/plain": [
       "['LP_LEBENSPHASE_FEIN',\n",
       " 'LP_LEBENSPHASE_GROB',\n",
       " 'PRAEGENDE_JUGENDJAHRE',\n",
       " 'WOHNLAGE',\n",
       " 'CAMEO_INTL_2015',\n",
       " 'PLZ8_BAUMAX']"
      ]
     },
     "execution_count": 189,
     "metadata": {},
     "output_type": "execute_result"
    }
   ],
   "source": [
    "mixed = feat_info[feat_info[\"type\"] == \"mixed\"][\"attribute\"].values\n",
    "mixed = [col for col in mixed if col in azdias_missing_below_threshold.columns]\n",
    "mixed"
   ]
  },
  {
   "cell_type": "code",
   "execution_count": 190,
   "metadata": {},
   "outputs": [],
   "source": [
    "# Investigate \"PRAEGENDE_JUGENDJAHRE\" and engineer two new variables.\n",
    "\"\"\"\n",
    "### 1.18. PRAEGENDE_JUGENDJAHRE\n",
    "Dominating movement of person's youth (avantgarde vs. mainstream; east vs. west)\n",
    "- -1: unknown\n",
    "-  0: unknown\n",
    "-  1: 40s - war years (Mainstream, E+W)\n",
    "-  2: 40s - reconstruction years (Avantgarde, E+W)\n",
    "-  3: 50s - economic miracle (Mainstream, E+W)\n",
    "-  4: 50s - milk bar / Individualisation (Avantgarde, E+W)\n",
    "-  5: 60s - economic miracle (Mainstream, E+W)\n",
    "-  6: 60s - generation 68 / student protestors (Avantgarde, W)\n",
    "-  7: 60s - opponents to the building of the Wall (Avantgarde, E)\n",
    "-  8: 70s - family orientation (Mainstream, E+W)\n",
    "-  9: 70s - peace movement (Avantgarde, E+W)\n",
    "- 10: 80s - Generation Golf (Mainstream, W)\n",
    "- 11: 80s - ecological awareness (Avantgarde, W)\n",
    "- 12: 80s - FDJ / communist party youth organisation (Mainstream, E)\n",
    "- 13: 80s - Swords into ploughshares (Avantgarde, E)\n",
    "- 14: 90s - digital media kids (Mainstream, E+W)\n",
    "- 15: 90s - ecological awareness (Avantgarde, E+W)\n",
    "\"\"\" \n",
    "\n",
    "\n",
    "mainstream = [1, 3, 5, 8, 10, 12, 14]\n",
    "avantgarde = [2, 4, 6, 7, 9, 11, 13, 15]\n",
    "\n",
    "def _mapper(val):\n",
    "    if val in avantgarde:\n",
    "        return 0\n",
    "    elif val in mainstream:\n",
    "        return 1\n",
    "    return val\n",
    "\n",
    "# mapping for movement\n",
    "azdias_missing_below_threshold[\"PRAEGENDE_JUGENDJAHRE_MAINSTREAM\"] = azdias_missing_below_threshold[\"PRAEGENDE_JUGENDJAHRE\"].apply(_mapper)\n",
    "\n",
    "# mapping for decades\n",
    "years = [40, 40, 50, 50, 60, 60, 60, 70, 70, 80, 80, 80, 80, 90, 90]\n",
    "decade = pd.Series(years, range(1, 16))\n",
    "azdias_missing_below_threshold[\"PRAEGENDE_JUGENDJAHRE_DECADE\"] = azdias_missing_below_threshold[\"PRAEGENDE_JUGENDJAHRE\"].map(decade)"
   ]
  },
  {
   "cell_type": "code",
   "execution_count": 191,
   "metadata": {},
   "outputs": [],
   "source": [
    "# Investigate \"CAMEO_INTL_2015\" and engineer two new variables.\n",
    "\"\"\"\n",
    "German CAMEO: Wealth / Life Stage Typology, mapped to international code\n",
    "- -1: unknown\n",
    "- 11: Wealthy Households - Pre-Family Couples & Singles\n",
    "- 12: Wealthy Households - Young Couples With Children\n",
    "- 13: Wealthy Households - Families With School Age Children\n",
    "- 14: Wealthy Households - Older Families &  Mature Couples\n",
    "- 15: Wealthy Households - Elders In Retirement\n",
    "- 21: Prosperous Households - Pre-Family Couples & Singles\n",
    "- 22: Prosperous Households - Young Couples With Children\n",
    "- 23: Prosperous Households - Families With School Age Children\n",
    "- 24: Prosperous Households - Older Families & Mature Couples\n",
    "- 25: Prosperous Households - Elders In Retirement\n",
    "- 31: Comfortable Households - Pre-Family Couples & Singles\n",
    "- 32: Comfortable Households - Young Couples With Children\n",
    "- 33: Comfortable Households - Families With School Age Children\n",
    "- 34: Comfortable Households - Older Families & Mature Couples\n",
    "- 35: Comfortable Households - Elders In Retirement\n",
    "- 41: Less Affluent Households - Pre-Family Couples & Singles\n",
    "- 42: Less Affluent Households - Young Couples With Children\n",
    "- 43: Less Affluent Households - Families With School Age Children\n",
    "- 44: Less Affluent Households - Older Families & Mature Couples\n",
    "- 45: Less Affluent Households - Elders In Retirement\n",
    "- 51: Poorer Households - Pre-Family Couples & Singles\n",
    "- 52: Poorer Households - Young Couples With Children\n",
    "- 53: Poorer Households - Families With School Age Children\n",
    "- 54: Poorer Households - Older Families & Mature Couples\n",
    "- 55: Poorer Households - Elders In Retirement\n",
    "- XX: unknown\n",
    "\"\"\"\n",
    "azdias_missing_below_threshold[\"CAMEO_INTL_2015_WEALTH\"] = azdias_missing_below_threshold[\"CAMEO_INTL_2015\"].dropna().apply(lambda x: int(str(x)[0]))\n",
    "azdias_missing_below_threshold[\"CAMEO_INTL_2015_LIFESTAGE\"] = azdias_missing_below_threshold[\"CAMEO_INTL_2015\"].dropna().apply(lambda x: int(str(x)[1]))\n"
   ]
  },
  {
   "cell_type": "code",
   "execution_count": 192,
   "metadata": {},
   "outputs": [
    {
     "name": "stdout",
     "output_type": "stream",
     "text": [
      "LP_LEBENSPHASE_FEIN 40\n",
      "LP_LEBENSPHASE_GROB 12\n",
      "PRAEGENDE_JUGENDJAHRE 15\n",
      "WOHNLAGE 8\n",
      "CAMEO_INTL_2015 21\n",
      "PLZ8_BAUMAX 5\n"
     ]
    }
   ],
   "source": [
    "for col in mixed:\n",
    "    print(col, azdias_missing_below_threshold[col].nunique())"
   ]
  },
  {
   "cell_type": "code",
   "execution_count": 193,
   "metadata": {},
   "outputs": [
    {
     "data": {
      "text/plain": [
       "(797077, 148)"
      ]
     },
     "execution_count": 193,
     "metadata": {},
     "output_type": "execute_result"
    }
   ],
   "source": [
    "azdias_missing_below_threshold.drop(mixed, axis=1, inplace=True)\n",
    "azdias_missing_below_threshold.shape"
   ]
  },
  {
   "cell_type": "markdown",
   "metadata": {},
   "source": [
    "#### Discussion 1.2.2: Engineer Mixed-Type Features\n",
    "\n",
    "We re-encoded PRAEGENDE_JUGENDJAHRE and CAMEO_INTL_2015. We dropped the rest to reduce complexity. As an example LP_LEBENSPHASE_FEIN has 40 different levels which is not amicable to one-hot encode."
   ]
  },
  {
   "cell_type": "markdown",
   "metadata": {},
   "source": [
    "#### Step 1.2.3: Complete Feature Selection\n",
    "\n",
    "In order to finish this step up, you need to make sure that your data frame now only has the columns that you want to keep. To summarize, the dataframe should consist of the following:\n",
    "- All numeric, interval, and ordinal type columns from the original dataset.\n",
    "- Binary categorical features (all numerically-encoded).\n",
    "- Engineered features from other multi-level categorical features and mixed features.\n",
    "\n",
    "Make sure that for any new columns that you have engineered, that you've excluded the original columns from the final dataset. Otherwise, their values will interfere with the analysis later on the project. For example, you should not keep \"PRAEGENDE_JUGENDJAHRE\", since its values won't be useful for the algorithm: only the values derived from it in the engineered features you created should be retained. As a reminder, your data should only be from **the subset with few or no missing values**."
   ]
  },
  {
   "cell_type": "code",
   "execution_count": 28,
   "metadata": {},
   "outputs": [],
   "source": [
    "# If there are other re-engineering tasks you need to perform, make sure you\n",
    "# take care of them here. (Dealing with missing data will come in step 2.1.)\n",
    "\n"
   ]
  },
  {
   "cell_type": "code",
   "execution_count": 29,
   "metadata": {},
   "outputs": [],
   "source": [
    "# Do whatever you need to in order to ensure that the dataframe only contains\n",
    "# the columns that should be passed to the algorithm functions.\n",
    "\n"
   ]
  },
  {
   "cell_type": "markdown",
   "metadata": {},
   "source": [
    "### Step 1.3: Create a Cleaning Function\n",
    "\n",
    "Even though you've finished cleaning up the general population demographics data, it's important to look ahead to the future and realize that you'll need to perform the same cleaning steps on the customer demographics data. In this substep, complete the function below to execute the main feature selection, encoding, and re-engineering steps you performed above. Then, when it comes to looking at the customer data in Step 3, you can just run this function on that DataFrame to get the trimmed dataset in a single step."
   ]
  },
  {
   "cell_type": "code",
   "execution_count": 194,
   "metadata": {},
   "outputs": [],
   "source": [
    "def clean_data(df):\n",
    "    \"\"\"\n",
    "    Perform feature trimming, re-encoding, and engineering for demographics\n",
    "    data\n",
    "    \n",
    "    INPUT: Demographics DataFrame\n",
    "    OUTPUT: Trimmed and cleaned demographics DataFrame\n",
    "    \"\"\"\n",
    "    \n",
    "    # Put in code here to execute all main cleaning steps:\n",
    "    # convert missing value codes into NaNs, ...\n",
    "    \n",
    "    threshold = 20\n",
    "    \n",
    "    feat_info = pd.read_csv(\"AZDIAS_Feature_Summary.csv\", delimiter =\";\")\n",
    "    \n",
    "    for idx in feat_info.index:\n",
    "        feat_info.loc[idx, \"missing_or_unknown\"] = feat_info.loc[idx, \"missing_or_unknown\"].strip(\"[]\").split(\",\")\n",
    "        for item in range(len(feat_info.loc[idx,\"missing_or_unknown\"])):\n",
    "            try:\n",
    "                feat_info.loc[idx,\"missing_or_unknown\"][item] = int(feat_info.loc[idx,\"missing_or_unknown\"][item])\n",
    "            except:\n",
    "                continue\n",
    "        df.loc[:,(feat_info.loc[idx, \"attribute\"])].replace(feat_info.loc[idx,\"missing_or_unknown\"], np.nan, inplace=True)\n",
    "    \n",
    "    # remove selected columns and rows\n",
    "    df.drop(outlier_cols.index, axis = 1, inplace=True)\n",
    "    \n",
    "    # remove rows > 20 missing values\n",
    "    num_missing = df.isnull().transpose().sum()\n",
    "    df_low_missing = df[num_missing < threshold]\n",
    "    \n",
    "    # select, re-encode, and engineer column values.\n",
    "    categorical =  feat_info[feat_info[\"type\"] == \"categorical\"][\"attribute\"].tolist()\n",
    "    categorical = [col for col in categorical if col in df_low_missing.columns]\n",
    "    binary = [col for col in categorical if df_low_missing[col].nunique() == 2]\n",
    "    multilevel = [col for col in categorical if df_low_missing[col].nunique() > 2]\n",
    "    \n",
    "    multilevel.remove(\"CAMEO_DEU_2015\")\n",
    "    df_low_missing.drop(\"CAMEO_DEU_2015\", axis=1, inplace=True)\n",
    "    df_low_missing.loc[:, \"OST_WEST_KZ\"].replace({\"W\": 0, \"O\": 1}, inplace=True)\n",
    "    df_low_missing = pd.get_dummies(df_low_missing, columns = multilevel)\n",
    "    \n",
    "    mainstream = [1, 3, 5, 8, 10, 12, 14]\n",
    "    avantgarde = [2, 4, 6, 7, 9, 11, 13, 15]\n",
    "\n",
    "    # mapping for movement\n",
    "    df_low_missing[\"PRAEGENDE_JUGENDJAHRE_MAINSTREAM\"] = df_low_missing[\"PRAEGENDE_JUGENDJAHRE\"].apply(_mapper)\n",
    "\n",
    "    # mapping for decades\n",
    "    years = [40, 40, 50, 50, 60, 60, 60, 70, 70, 80, 80, 80, 80, 90, 90]\n",
    "    decade = pd.Series(years, range(1, 16))\n",
    "    df_low_missing[\"PRAEGENDE_JUGENDJAHRE_DECADE\"] = df_low_missing[\"PRAEGENDE_JUGENDJAHRE\"].map(decade)\n",
    "    \n",
    "    df_low_missing[\"CAMEO_INTL_2015_WEALTH\"] = df_low_missing[\"CAMEO_INTL_2015\"].dropna().apply(lambda x: int(str(x)[0]))\n",
    "    df_low_missing[\"CAMEO_INTL_2015_LIFESTAGE\"] = df_low_missing[\"CAMEO_INTL_2015\"].dropna().apply(lambda x: int(str(x)[1]))\n",
    "    \n",
    "    mixed = feat_info[feat_info[\"type\"] == \"mixed\"][\"attribute\"].values\n",
    "    mixed = [col for col in mixed if col in df_low_missing.columns]\n",
    "    \n",
    "    df_low_missing.drop(mixed, axis=1, inplace=True)\n",
    "    \n",
    "    # Add columns with zero for empty column in azdias_missing_below_threshold\n",
    "    columns = [col for col in azdias_missing_below_threshold if col not in df_low_missing]\n",
    "    for column in columns:\n",
    "        df_low_missing[column] = 0\n",
    "        \n",
    "    # Return the cleaned dataframe.\n",
    "    return df_low_missing\n",
    "    "
   ]
  },
  {
   "cell_type": "markdown",
   "metadata": {},
   "source": [
    "## Step 2: Feature Transformation\n",
    "\n",
    "### Step 2.1: Apply Feature Scaling\n",
    "\n",
    "Before we apply dimensionality reduction techniques to the data, we need to perform feature scaling so that the principal component vectors are not influenced by the natural differences in scale for features. Starting from this part of the project, you'll want to keep an eye on the [API reference page for sklearn](http://scikit-learn.org/stable/modules/classes.html) to help you navigate to all of the classes and functions that you'll need. In this substep, you'll need to check the following:\n",
    "\n",
    "- sklearn requires that data not have missing values in order for its estimators to work properly. So, before applying the scaler to your data, make sure that you've cleaned the DataFrame of the remaining missing values. This can be as simple as just removing all data points with missing data, or applying an [Imputer](http://scikit-learn.org/stable/modules/generated/sklearn.preprocessing.Imputer.html) to replace all missing values. You might also try a more complicated procedure where you temporarily remove missing values in order to compute the scaling parameters before re-introducing those missing values and applying imputation. Think about how much missing data you have and what possible effects each approach might have on your analysis, and justify your decision in the discussion section below.\n",
    "- For the actual scaling function, a [StandardScaler](http://scikit-learn.org/stable/modules/generated/sklearn.preprocessing.StandardScaler.html) instance is suggested, scaling each feature to mean 0 and standard deviation 1.\n",
    "- For these classes, you can make use of the `.fit_transform()` method to both fit a procedure to the data as well as apply the transformation to the data at the same time. Don't forget to keep the fit sklearn objects handy, since you'll be applying them to the customer demographics data towards the end of the project."
   ]
  },
  {
   "cell_type": "code",
   "execution_count": 195,
   "metadata": {},
   "outputs": [],
   "source": [
    "# If you've not yet cleaned the dataset of all NaN values, then investigate and\n",
    "# do that now.\n",
    "imputer = Imputer()\n",
    "azdias_missing_below_threshold = pd.DataFrame(imputer.fit_transform(azdias_missing_below_threshold), columns = azdias_missing_below_threshold.columns)\n"
   ]
  },
  {
   "cell_type": "code",
   "execution_count": 196,
   "metadata": {},
   "outputs": [],
   "source": [
    "# Apply feature scaling to the general population demographics data.\n",
    "scaler = StandardScaler()\n",
    "azdias_missing_below_threshold = pd.DataFrame(scaler.fit_transform(azdias_missing_below_threshold), columns = azdias_missing_below_threshold.columns)\n"
   ]
  },
  {
   "cell_type": "markdown",
   "metadata": {},
   "source": [
    "### Discussion 2.1: Apply Feature Scaling\n",
    "\n",
    "We used scikit learn's Imputer to replace NaN values with mean of the column and StandardScaler to scale the data."
   ]
  },
  {
   "cell_type": "markdown",
   "metadata": {},
   "source": [
    "### Step 2.2: Perform Dimensionality Reduction\n",
    "\n",
    "On your scaled data, you are now ready to apply dimensionality reduction techniques.\n",
    "\n",
    "- Use sklearn's [PCA](http://scikit-learn.org/stable/modules/generated/sklearn.decomposition.PCA.html) class to apply principal component analysis on the data, thus finding the vectors of maximal variance in the data. To start, you should not set any parameters (so all components are computed) or set a number of components that is at least half the number of features (so there's enough features to see the general trend in variability).\n",
    "- Check out the ratio of variance explained by each principal component as well as the cumulative variance explained. Try plotting the cumulative or sequential values using matplotlib's [`plot()`](https://matplotlib.org/api/_as_gen/matplotlib.pyplot.plot.html) function. Based on what you find, select a value for the number of transformed features you'll retain for the clustering part of the project.\n",
    "- Once you've made a choice for the number of components to keep, make sure you re-fit a PCA instance to perform the decided-on transformation."
   ]
  },
  {
   "cell_type": "code",
   "execution_count": 197,
   "metadata": {},
   "outputs": [],
   "source": [
    "# Apply PCA to the data.\n",
    "pca = PCA()\n",
    "azdias_pca = pca.fit_transform(azdias_missing_below_threshold)\n"
   ]
  },
  {
   "cell_type": "code",
   "execution_count": 199,
   "metadata": {},
   "outputs": [
    {
     "data": {
      "text/plain": [
       "<matplotlib.legend.Legend at 0x7f8651fdc2b0>"
      ]
     },
     "execution_count": 199,
     "metadata": {},
     "output_type": "execute_result"
    },
    {
     "data": {
      "image/png": "[encoded data removed]",
      "text/plain": [
       "<matplotlib.figure.Figure at 0x7f8651f745c0>"
      ]
     },
     "metadata": {
      "needs_background": "light"
     },
     "output_type": "display_data"
    }
   ],
   "source": [
    "# Investigate the variance accounted for by each principal component.\n",
    "\n",
    "fig = plt.figure(figsize=(20, 6))\n",
    "ax = fig.add_axes([0, 0, 1, 1], True)\n",
    "ax2 = ax.twinx()\n",
    "ax.plot(pca.explained_variance_ratio_, label = \"Variance\")\n",
    "ax.set_xticks(np.arange(0, azdias_missing_below_threshold.shape[1], 3))\n",
    "ax2.plot(np.cumsum(pca.explained_variance_ratio_), label = \"Cumulative Variance\", color = \"green\")\n",
    "fig.legend()\n"
   ]
  },
  {
   "cell_type": "code",
   "execution_count": 200,
   "metadata": {},
   "outputs": [
    {
     "data": {
      "text/plain": [
       "32"
      ]
     },
     "execution_count": 200,
     "metadata": {},
     "output_type": "execute_result"
    }
   ],
   "source": [
    "n_components = min(np.where(np.cumsum(pca.explained_variance_ratio_) >= 0.6)[0])\n",
    "n_components"
   ]
  },
  {
   "cell_type": "markdown",
   "metadata": {},
   "source": [
    "We can see 60% cumulative variance is seen for 32 principal components which is what we will use for the clustering"
   ]
  },
  {
   "cell_type": "code",
   "execution_count": 201,
   "metadata": {},
   "outputs": [
    {
     "data": {
      "text/plain": [
       "0.5949649812026272"
      ]
     },
     "execution_count": 201,
     "metadata": {},
     "output_type": "execute_result"
    }
   ],
   "source": [
    "# Re-apply PCA to the data while selecting for number of components to retain.\n",
    "pca = PCA(n_components = n_components, random_state = 7)\n",
    "azdias_pca = pca.fit_transform(azdias_missing_below_threshold)\n",
    "pca.explained_variance_ratio_.sum()"
   ]
  },
  {
   "cell_type": "markdown",
   "metadata": {},
   "source": [
    "### Discussion 2.2: Perform Dimensionality Reduction\n",
    "\n",
    "We are going with 32 principal components which gives us a cumulative explained variance of 60%. "
   ]
  },
  {
   "cell_type": "markdown",
   "metadata": {},
   "source": [
    "### Step 2.3: Interpret Principal Components\n",
    "\n",
    "Now that we have our transformed principal components, it's a nice idea to check out the weight of each variable on the first few components to see if they can be interpreted in some fashion.\n",
    "\n",
    "As a reminder, each principal component is a unit vector that points in the direction of highest variance (after accounting for the variance captured by earlier principal components). The further a weight is from zero, the more the principal component is in the direction of the corresponding feature. If two features have large weights of the same sign (both positive or both negative), then increases in one tend expect to be associated with increases in the other. To contrast, features with different signs can be expected to show a negative correlation: increases in one variable should result in a decrease in the other.\n",
    "\n",
    "- To investigate the features, you should map each weight to their corresponding feature name, then sort the features according to weight. The most interesting features for each principal component, then, will be those at the beginning and end of the sorted list. Use the data dictionary document to help you understand these most prominent features, their relationships, and what a positive or negative value on the principal component might indicate.\n",
    "- You should investigate and interpret feature associations from the first three principal components in this substep. To help facilitate this, you should write a function that you can call at any time to print the sorted list of feature weights, for the *i*-th principal component. This might come in handy in the next step of the project, when you interpret the tendencies of the discovered clusters."
   ]
  },
  {
   "cell_type": "code",
   "execution_count": 202,
   "metadata": {},
   "outputs": [],
   "source": [
    "# HINT: Try defining a function here or in a new cell that you can reuse in the\n",
    "# other cells.\n",
    "def comp_feat_weights(df, item):\n",
    "    sorted_df = df.sort_values(df.index[item], axis = 1)\n",
    "    return sorted_df.iloc[[item]]"
   ]
  },
  {
   "cell_type": "code",
   "execution_count": 203,
   "metadata": {},
   "outputs": [],
   "source": [
    "df_components = pd.DataFrame(pca.components_)\n",
    "df_components.columns = azdias_missing_below_threshold.columns"
   ]
  },
  {
   "cell_type": "code",
   "execution_count": 204,
   "metadata": {},
   "outputs": [
    {
     "data": {
      "text/html": [
       "<div>\n",
       "<style scoped>\n",
       "    .dataframe tbody tr th:only-of-type {\n",
       "        vertical-align: middle;\n",
       "    }\n",
       "\n",
       "    .dataframe tbody tr th {\n",
       "        vertical-align: top;\n",
       "    }\n",
       "\n",
       "    .dataframe thead th {\n",
       "        text-align: right;\n",
       "    }\n",
       "</style>\n",
       "<table border=\"1\" class=\"dataframe\">\n",
       "  <thead>\n",
       "    <tr style=\"text-align: right;\">\n",
       "      <th></th>\n",
       "      <th>MOBI_REGIO</th>\n",
       "      <th>FINANZ_MINIMALIST</th>\n",
       "      <th>KBA05_ANTG1</th>\n",
       "      <th>KBA05_GBZ</th>\n",
       "      <th>PLZ8_ANTG1</th>\n",
       "      <th>KONSUMNAEHE</th>\n",
       "      <th>PLZ8_GBZ</th>\n",
       "      <th>INNENSTADT</th>\n",
       "      <th>LP_STATUS_GROB_5.0</th>\n",
       "      <th>LP_STATUS_FEIN_10.0</th>\n",
       "      <th>...</th>\n",
       "      <th>FINANZ_SPARER</th>\n",
       "      <th>KBA05_ANTG4</th>\n",
       "      <th>FINANZ_HAUSBAUER</th>\n",
       "      <th>EWDICHTE</th>\n",
       "      <th>ORTSGR_KLS9</th>\n",
       "      <th>PLZ8_ANTG4</th>\n",
       "      <th>CAMEO_INTL_2015_WEALTH</th>\n",
       "      <th>PLZ8_ANTG3</th>\n",
       "      <th>HH_EINKOMMEN_SCORE</th>\n",
       "      <th>LP_STATUS_GROB_1.0</th>\n",
       "    </tr>\n",
       "  </thead>\n",
       "  <tbody>\n",
       "    <tr>\n",
       "      <th>0</th>\n",
       "      <td>-0.207005</td>\n",
       "      <td>-0.200833</td>\n",
       "      <td>-0.193987</td>\n",
       "      <td>-0.1841</td>\n",
       "      <td>-0.183727</td>\n",
       "      <td>-0.137533</td>\n",
       "      <td>-0.134154</td>\n",
       "      <td>-0.129163</td>\n",
       "      <td>-0.117879</td>\n",
       "      <td>-0.117879</td>\n",
       "      <td>...</td>\n",
       "      <td>0.126887</td>\n",
       "      <td>0.128673</td>\n",
       "      <td>0.150422</td>\n",
       "      <td>0.155251</td>\n",
       "      <td>0.156654</td>\n",
       "      <td>0.177768</td>\n",
       "      <td>0.182446</td>\n",
       "      <td>0.183418</td>\n",
       "      <td>0.188092</td>\n",
       "      <td>0.200482</td>\n",
       "    </tr>\n",
       "  </tbody>\n",
       "</table>\n",
       "<p>1 rows × 148 columns</p>\n",
       "</div>"
      ],
      "text/plain": [
       "   MOBI_REGIO  FINANZ_MINIMALIST  KBA05_ANTG1  KBA05_GBZ  PLZ8_ANTG1  \\\n",
       "0   -0.207005          -0.200833    -0.193987    -0.1841   -0.183727   \n",
       "\n",
       "   KONSUMNAEHE  PLZ8_GBZ  INNENSTADT  LP_STATUS_GROB_5.0  LP_STATUS_FEIN_10.0  \\\n",
       "0    -0.137533 -0.134154   -0.129163           -0.117879            -0.117879   \n",
       "\n",
       "          ...          FINANZ_SPARER  KBA05_ANTG4  FINANZ_HAUSBAUER  EWDICHTE  \\\n",
       "0         ...               0.126887     0.128673          0.150422  0.155251   \n",
       "\n",
       "   ORTSGR_KLS9  PLZ8_ANTG4  CAMEO_INTL_2015_WEALTH  PLZ8_ANTG3  \\\n",
       "0     0.156654    0.177768                0.182446    0.183418   \n",
       "\n",
       "   HH_EINKOMMEN_SCORE  LP_STATUS_GROB_1.0  \n",
       "0            0.188092            0.200482  \n",
       "\n",
       "[1 rows x 148 columns]"
      ]
     },
     "execution_count": 204,
     "metadata": {},
     "output_type": "execute_result"
    }
   ],
   "source": [
    "# Map weights for the first principal component to corresponding feature names\n",
    "# and then print the linked values, sorted by weight.\n",
    "comp_feat_weights(df_components, 0)"
   ]
  },
  {
   "cell_type": "code",
   "execution_count": 205,
   "metadata": {},
   "outputs": [
    {
     "data": {
      "text/html": [
       "<div>\n",
       "<style scoped>\n",
       "    .dataframe tbody tr th:only-of-type {\n",
       "        vertical-align: middle;\n",
       "    }\n",
       "\n",
       "    .dataframe tbody tr th {\n",
       "        vertical-align: top;\n",
       "    }\n",
       "\n",
       "    .dataframe thead th {\n",
       "        text-align: right;\n",
       "    }\n",
       "</style>\n",
       "<table border=\"1\" class=\"dataframe\">\n",
       "  <thead>\n",
       "    <tr style=\"text-align: right;\">\n",
       "      <th></th>\n",
       "      <th>PRAEGENDE_JUGENDJAHRE_DECADE</th>\n",
       "      <th>FINANZ_SPARER</th>\n",
       "      <th>FINANZ_UNAUFFAELLIGER</th>\n",
       "      <th>SEMIO_REL</th>\n",
       "      <th>SEMIO_TRADV</th>\n",
       "      <th>SEMIO_PFLICHT</th>\n",
       "      <th>FINANZ_ANLEGER</th>\n",
       "      <th>ONLINE_AFFINITAET</th>\n",
       "      <th>SEMIO_RAT</th>\n",
       "      <th>SEMIO_KULT</th>\n",
       "      <th>...</th>\n",
       "      <th>FINANZTYP_5</th>\n",
       "      <th>LP_STATUS_FEIN_1.0</th>\n",
       "      <th>CJT_GESAMTTYP_2.0</th>\n",
       "      <th>W_KEIT_KIND_HH</th>\n",
       "      <th>RETOURTYP_BK_S</th>\n",
       "      <th>SEMIO_LUST</th>\n",
       "      <th>SEMIO_ERL</th>\n",
       "      <th>ZABEOTYP_3</th>\n",
       "      <th>FINANZ_VORSORGER</th>\n",
       "      <th>ALTERSKATEGORIE_GROB</th>\n",
       "    </tr>\n",
       "  </thead>\n",
       "  <tbody>\n",
       "    <tr>\n",
       "      <th>1</th>\n",
       "      <td>-0.234704</td>\n",
       "      <td>-0.221263</td>\n",
       "      <td>-0.213324</td>\n",
       "      <td>-0.211183</td>\n",
       "      <td>-0.205785</td>\n",
       "      <td>-0.201307</td>\n",
       "      <td>-0.200685</td>\n",
       "      <td>-0.166259</td>\n",
       "      <td>-0.164778</td>\n",
       "      <td>-0.163871</td>\n",
       "      <td>...</td>\n",
       "      <td>0.098139</td>\n",
       "      <td>0.104385</td>\n",
       "      <td>0.106531</td>\n",
       "      <td>0.130571</td>\n",
       "      <td>0.155869</td>\n",
       "      <td>0.161304</td>\n",
       "      <td>0.179388</td>\n",
       "      <td>0.200658</td>\n",
       "      <td>0.215574</td>\n",
       "      <td>0.229661</td>\n",
       "    </tr>\n",
       "  </tbody>\n",
       "</table>\n",
       "<p>1 rows × 148 columns</p>\n",
       "</div>"
      ],
      "text/plain": [
       "   PRAEGENDE_JUGENDJAHRE_DECADE  FINANZ_SPARER  FINANZ_UNAUFFAELLIGER  \\\n",
       "1                     -0.234704      -0.221263              -0.213324   \n",
       "\n",
       "   SEMIO_REL  SEMIO_TRADV  SEMIO_PFLICHT  FINANZ_ANLEGER  ONLINE_AFFINITAET  \\\n",
       "1  -0.211183    -0.205785      -0.201307       -0.200685          -0.166259   \n",
       "\n",
       "   SEMIO_RAT  SEMIO_KULT          ...           FINANZTYP_5  \\\n",
       "1  -0.164778   -0.163871          ...              0.098139   \n",
       "\n",
       "   LP_STATUS_FEIN_1.0  CJT_GESAMTTYP_2.0  W_KEIT_KIND_HH  RETOURTYP_BK_S  \\\n",
       "1            0.104385           0.106531        0.130571        0.155869   \n",
       "\n",
       "   SEMIO_LUST  SEMIO_ERL  ZABEOTYP_3  FINANZ_VORSORGER  ALTERSKATEGORIE_GROB  \n",
       "1    0.161304   0.179388    0.200658          0.215574              0.229661  \n",
       "\n",
       "[1 rows x 148 columns]"
      ]
     },
     "execution_count": 205,
     "metadata": {},
     "output_type": "execute_result"
    }
   ],
   "source": [
    "# Map weights for the second principal component to corresponding feature names\n",
    "# and then print the linked values, sorted by weight.\n",
    "comp_feat_weights(df_components, 1)"
   ]
  },
  {
   "cell_type": "code",
   "execution_count": 206,
   "metadata": {},
   "outputs": [
    {
     "data": {
      "text/html": [
       "<div>\n",
       "<style scoped>\n",
       "    .dataframe tbody tr th:only-of-type {\n",
       "        vertical-align: middle;\n",
       "    }\n",
       "\n",
       "    .dataframe tbody tr th {\n",
       "        vertical-align: top;\n",
       "    }\n",
       "\n",
       "    .dataframe thead th {\n",
       "        text-align: right;\n",
       "    }\n",
       "</style>\n",
       "<table border=\"1\" class=\"dataframe\">\n",
       "  <thead>\n",
       "    <tr style=\"text-align: right;\">\n",
       "      <th></th>\n",
       "      <th>ANREDE_KZ</th>\n",
       "      <th>SEMIO_KAEM</th>\n",
       "      <th>SEMIO_DOM</th>\n",
       "      <th>SEMIO_KRIT</th>\n",
       "      <th>SEMIO_ERL</th>\n",
       "      <th>SEMIO_RAT</th>\n",
       "      <th>FINANZ_ANLEGER</th>\n",
       "      <th>FINANZTYP_1</th>\n",
       "      <th>SHOPPER_TYP_2.0</th>\n",
       "      <th>LP_STATUS_FEIN_2.0</th>\n",
       "      <th>...</th>\n",
       "      <th>SEMIO_MAT</th>\n",
       "      <th>SEMIO_REL</th>\n",
       "      <th>ZABEOTYP_1</th>\n",
       "      <th>SHOPPER_TYP_0.0</th>\n",
       "      <th>FINANZ_MINIMALIST</th>\n",
       "      <th>FINANZTYP_5</th>\n",
       "      <th>SEMIO_KULT</th>\n",
       "      <th>SEMIO_SOZ</th>\n",
       "      <th>SEMIO_FAM</th>\n",
       "      <th>SEMIO_VERT</th>\n",
       "    </tr>\n",
       "  </thead>\n",
       "  <tbody>\n",
       "    <tr>\n",
       "      <th>2</th>\n",
       "      <td>-0.347034</td>\n",
       "      <td>-0.317135</td>\n",
       "      <td>-0.286219</td>\n",
       "      <td>-0.267769</td>\n",
       "      <td>-0.208151</td>\n",
       "      <td>-0.156342</td>\n",
       "      <td>-0.152881</td>\n",
       "      <td>-0.10003</td>\n",
       "      <td>-0.093141</td>\n",
       "      <td>-0.07864</td>\n",
       "      <td>...</td>\n",
       "      <td>0.08899</td>\n",
       "      <td>0.113659</td>\n",
       "      <td>0.113803</td>\n",
       "      <td>0.123551</td>\n",
       "      <td>0.127003</td>\n",
       "      <td>0.134696</td>\n",
       "      <td>0.252924</td>\n",
       "      <td>0.258042</td>\n",
       "      <td>0.262073</td>\n",
       "      <td>0.320064</td>\n",
       "    </tr>\n",
       "  </tbody>\n",
       "</table>\n",
       "<p>1 rows × 148 columns</p>\n",
       "</div>"
      ],
      "text/plain": [
       "   ANREDE_KZ  SEMIO_KAEM  SEMIO_DOM  SEMIO_KRIT  SEMIO_ERL  SEMIO_RAT  \\\n",
       "2  -0.347034   -0.317135  -0.286219   -0.267769  -0.208151  -0.156342   \n",
       "\n",
       "   FINANZ_ANLEGER  FINANZTYP_1  SHOPPER_TYP_2.0  LP_STATUS_FEIN_2.0  \\\n",
       "2       -0.152881     -0.10003        -0.093141            -0.07864   \n",
       "\n",
       "      ...      SEMIO_MAT  SEMIO_REL  ZABEOTYP_1  SHOPPER_TYP_0.0  \\\n",
       "2     ...        0.08899   0.113659    0.113803         0.123551   \n",
       "\n",
       "   FINANZ_MINIMALIST  FINANZTYP_5  SEMIO_KULT  SEMIO_SOZ  SEMIO_FAM  \\\n",
       "2           0.127003     0.134696    0.252924   0.258042   0.262073   \n",
       "\n",
       "   SEMIO_VERT  \n",
       "2    0.320064  \n",
       "\n",
       "[1 rows x 148 columns]"
      ]
     },
     "execution_count": 206,
     "metadata": {},
     "output_type": "execute_result"
    }
   ],
   "source": [
    "# Map weights for the third principal component to corresponding feature names\n",
    "# and then print the linked values, sorted by weight.\n",
    "comp_feat_weights(df_components, 2)"
   ]
  },
  {
   "cell_type": "markdown",
   "metadata": {},
   "source": [
    "### Discussion 2.3: Interpret Principal Components\n",
    "\n",
    "Component 1:\n",
    "- low financial interest\n",
    "- no / lower share of 1-2 family homes\n",
    "- Low number of buildings nearby\n",
    "- low income\n",
    "- high movement\n",
    "\n",
    "Component 2:\n",
    "- older\n",
    "- money-saver\n",
    "- religious\n",
    "- financially prepared\n",
    "- traditional minded\n",
    "\n",
    "Component 3:\n",
    "- male\n",
    "- aggresive/combative\n",
    "- less dreamful\n",
    "- less family-oriented\n",
    "- critical minded"
   ]
  },
  {
   "cell_type": "markdown",
   "metadata": {},
   "source": [
    "## Step 3: Clustering\n",
    "\n",
    "### Step 3.1: Apply Clustering to General Population\n",
    "\n",
    "You've assessed and cleaned the demographics data, then scaled and transformed them. Now, it's time to see how the data clusters in the principal components space. In this substep, you will apply k-means clustering to the dataset and use the average within-cluster distances from each point to their assigned cluster's centroid to decide on a number of clusters to keep.\n",
    "\n",
    "- Use sklearn's [KMeans](http://scikit-learn.org/stable/modules/generated/sklearn.cluster.KMeans.html#sklearn.cluster.KMeans) class to perform k-means clustering on the PCA-transformed data.\n",
    "- Then, compute the average difference from each point to its assigned cluster's center. **Hint**: The KMeans object's `.score()` method might be useful here, but note that in sklearn, scores tend to be defined so that larger is better. Try applying it to a small, toy dataset, or use an internet search to help your understanding.\n",
    "- Perform the above two steps for a number of different cluster counts. You can then see how the average distance decreases with an increasing number of clusters. However, each additional cluster provides a smaller net benefit. Use this fact to select a final number of clusters in which to group the data. **Warning**: because of the large size of the dataset, it can take a long time for the algorithm to resolve. The more clusters to fit, the longer the algorithm will take. You should test for cluster counts through at least 10 clusters to get the full picture, but you shouldn't need to test for a number of clusters above about 30.\n",
    "- Once you've selected a final number of clusters to use, re-fit a KMeans instance to perform the clustering operation. Make sure that you also obtain the cluster assignments for the general demographics data, since you'll be using them in the final Step 3.3."
   ]
  },
  {
   "cell_type": "code",
   "execution_count": 91,
   "metadata": {},
   "outputs": [
    {
     "name": "stdout",
     "output_type": "stream",
     "text": [
      "For cluster size 2, score is 61273494.88411222\n",
      "For cluster size 3, score is 56797543.55946168\n",
      "For cluster size 4, score is 53960717.70743292\n",
      "For cluster size 5, score is 51651937.439720176\n",
      "For cluster size 6, score is 50167010.21656075\n",
      "For cluster size 7, score is 48882050.226681106\n",
      "For cluster size 8, score is 47515029.517985635\n",
      "For cluster size 9, score is 46479695.62879018\n",
      "For cluster size 10, score is 45588574.277794726\n",
      "For cluster size 11, score is 44660760.2733969\n",
      "For cluster size 12, score is 43920519.25361261\n",
      "For cluster size 13, score is 43178505.6195062\n",
      "For cluster size 14, score is 42577820.8195512\n",
      "For cluster size 15, score is 41930007.04740598\n",
      "For cluster size 16, score is 41668330.74753735\n",
      "For cluster size 17, score is 41013432.52254823\n",
      "For cluster size 18, score is 40499306.01817196\n",
      "For cluster size 19, score is 39993886.227152206\n",
      "For cluster size 20, score is 39685833.423060626\n",
      "For cluster size 21, score is 39355657.26539697\n",
      "For cluster size 22, score is 39034780.92683905\n",
      "For cluster size 23, score is 38671641.18314993\n",
      "For cluster size 24, score is 38464895.37043918\n",
      "For cluster size 25, score is 38230226.7448813\n"
     ]
    },
    {
     "ename": "KeyboardInterrupt",
     "evalue": "",
     "output_type": "error",
     "traceback": [
      "\u001b[0;31m---------------------------------------------------------------------------\u001b[0m",
      "\u001b[0;31mKeyboardInterrupt\u001b[0m                         Traceback (most recent call last)",
      "\u001b[0;32m<ipython-input-91-082b1c120ecf>\u001b[0m in \u001b[0;36m<module>\u001b[0;34m()\u001b[0m\n\u001b[1;32m      5\u001b[0m     \u001b[0;31m# run k-means clustering on the data and...\u001b[0m\u001b[0;34m\u001b[0m\u001b[0;34m\u001b[0m\u001b[0m\n\u001b[1;32m      6\u001b[0m     \u001b[0mkmeans\u001b[0m \u001b[0;34m=\u001b[0m \u001b[0mKMeans\u001b[0m\u001b[0;34m(\u001b[0m\u001b[0mn_clusters\u001b[0m \u001b[0;34m=\u001b[0m \u001b[0mi\u001b[0m\u001b[0;34m)\u001b[0m\u001b[0;34m\u001b[0m\u001b[0m\n\u001b[0;32m----> 7\u001b[0;31m     \u001b[0mmodel\u001b[0m \u001b[0;34m=\u001b[0m \u001b[0mkmeans\u001b[0m\u001b[0;34m.\u001b[0m\u001b[0mfit\u001b[0m\u001b[0;34m(\u001b[0m\u001b[0mazdias_pca\u001b[0m\u001b[0;34m)\u001b[0m\u001b[0;34m\u001b[0m\u001b[0m\n\u001b[0m\u001b[1;32m      8\u001b[0m     \u001b[0mscore\u001b[0m \u001b[0;34m=\u001b[0m \u001b[0mnp\u001b[0m\u001b[0;34m.\u001b[0m\u001b[0mabs\u001b[0m\u001b[0;34m(\u001b[0m\u001b[0mmodel\u001b[0m\u001b[0;34m.\u001b[0m\u001b[0mscore\u001b[0m\u001b[0;34m(\u001b[0m\u001b[0mazdias_pca\u001b[0m\u001b[0;34m)\u001b[0m\u001b[0;34m)\u001b[0m\u001b[0;34m\u001b[0m\u001b[0m\n\u001b[1;32m      9\u001b[0m \u001b[0;34m\u001b[0m\u001b[0m\n",
      "\u001b[0;32m/opt/conda/lib/python3.6/site-packages/sklearn/cluster/k_means_.py\u001b[0m in \u001b[0;36mfit\u001b[0;34m(self, X, y)\u001b[0m\n\u001b[1;32m    894\u001b[0m                 \u001b[0mtol\u001b[0m\u001b[0;34m=\u001b[0m\u001b[0mself\u001b[0m\u001b[0;34m.\u001b[0m\u001b[0mtol\u001b[0m\u001b[0;34m,\u001b[0m \u001b[0mrandom_state\u001b[0m\u001b[0;34m=\u001b[0m\u001b[0mrandom_state\u001b[0m\u001b[0;34m,\u001b[0m \u001b[0mcopy_x\u001b[0m\u001b[0;34m=\u001b[0m\u001b[0mself\u001b[0m\u001b[0;34m.\u001b[0m\u001b[0mcopy_x\u001b[0m\u001b[0;34m,\u001b[0m\u001b[0;34m\u001b[0m\u001b[0m\n\u001b[1;32m    895\u001b[0m                 \u001b[0mn_jobs\u001b[0m\u001b[0;34m=\u001b[0m\u001b[0mself\u001b[0m\u001b[0;34m.\u001b[0m\u001b[0mn_jobs\u001b[0m\u001b[0;34m,\u001b[0m \u001b[0malgorithm\u001b[0m\u001b[0;34m=\u001b[0m\u001b[0mself\u001b[0m\u001b[0;34m.\u001b[0m\u001b[0malgorithm\u001b[0m\u001b[0;34m,\u001b[0m\u001b[0;34m\u001b[0m\u001b[0m\n\u001b[0;32m--> 896\u001b[0;31m                 return_n_iter=True)\n\u001b[0m\u001b[1;32m    897\u001b[0m         \u001b[0;32mreturn\u001b[0m \u001b[0mself\u001b[0m\u001b[0;34m\u001b[0m\u001b[0m\n\u001b[1;32m    898\u001b[0m \u001b[0;34m\u001b[0m\u001b[0m\n",
      "\u001b[0;32m/opt/conda/lib/python3.6/site-packages/sklearn/cluster/k_means_.py\u001b[0m in \u001b[0;36mk_means\u001b[0;34m(X, n_clusters, init, precompute_distances, n_init, max_iter, verbose, tol, random_state, copy_x, n_jobs, algorithm, return_n_iter)\u001b[0m\n\u001b[1;32m    344\u001b[0m                 \u001b[0mX\u001b[0m\u001b[0;34m,\u001b[0m \u001b[0mn_clusters\u001b[0m\u001b[0;34m,\u001b[0m \u001b[0mmax_iter\u001b[0m\u001b[0;34m=\u001b[0m\u001b[0mmax_iter\u001b[0m\u001b[0;34m,\u001b[0m \u001b[0minit\u001b[0m\u001b[0;34m=\u001b[0m\u001b[0minit\u001b[0m\u001b[0;34m,\u001b[0m \u001b[0mverbose\u001b[0m\u001b[0;34m=\u001b[0m\u001b[0mverbose\u001b[0m\u001b[0;34m,\u001b[0m\u001b[0;34m\u001b[0m\u001b[0m\n\u001b[1;32m    345\u001b[0m                 \u001b[0mprecompute_distances\u001b[0m\u001b[0;34m=\u001b[0m\u001b[0mprecompute_distances\u001b[0m\u001b[0;34m,\u001b[0m \u001b[0mtol\u001b[0m\u001b[0;34m=\u001b[0m\u001b[0mtol\u001b[0m\u001b[0;34m,\u001b[0m\u001b[0;34m\u001b[0m\u001b[0m\n\u001b[0;32m--> 346\u001b[0;31m                 x_squared_norms=x_squared_norms, random_state=random_state)\n\u001b[0m\u001b[1;32m    347\u001b[0m             \u001b[0;31m# determine if these results are the best so far\u001b[0m\u001b[0;34m\u001b[0m\u001b[0;34m\u001b[0m\u001b[0m\n\u001b[1;32m    348\u001b[0m             \u001b[0;32mif\u001b[0m \u001b[0mbest_inertia\u001b[0m \u001b[0;32mis\u001b[0m \u001b[0;32mNone\u001b[0m \u001b[0;32mor\u001b[0m \u001b[0minertia\u001b[0m \u001b[0;34m<\u001b[0m \u001b[0mbest_inertia\u001b[0m\u001b[0;34m:\u001b[0m\u001b[0;34m\u001b[0m\u001b[0m\n",
      "\u001b[0;32m/opt/conda/lib/python3.6/site-packages/sklearn/cluster/k_means_.py\u001b[0m in \u001b[0;36m_kmeans_single_elkan\u001b[0;34m(X, n_clusters, max_iter, init, verbose, x_squared_norms, random_state, tol, precompute_distances)\u001b[0m\n\u001b[1;32m    398\u001b[0m         \u001b[0mprint\u001b[0m\u001b[0;34m(\u001b[0m\u001b[0;34m'Initialization complete'\u001b[0m\u001b[0;34m)\u001b[0m\u001b[0;34m\u001b[0m\u001b[0m\n\u001b[1;32m    399\u001b[0m     centers, labels, n_iter = k_means_elkan(X, n_clusters, centers, tol=tol,\n\u001b[0;32m--> 400\u001b[0;31m                                             max_iter=max_iter, verbose=verbose)\n\u001b[0m\u001b[1;32m    401\u001b[0m     \u001b[0minertia\u001b[0m \u001b[0;34m=\u001b[0m \u001b[0mnp\u001b[0m\u001b[0;34m.\u001b[0m\u001b[0msum\u001b[0m\u001b[0;34m(\u001b[0m\u001b[0;34m(\u001b[0m\u001b[0mX\u001b[0m \u001b[0;34m-\u001b[0m \u001b[0mcenters\u001b[0m\u001b[0;34m[\u001b[0m\u001b[0mlabels\u001b[0m\u001b[0;34m]\u001b[0m\u001b[0;34m)\u001b[0m \u001b[0;34m**\u001b[0m \u001b[0;36m2\u001b[0m\u001b[0;34m,\u001b[0m \u001b[0mdtype\u001b[0m\u001b[0;34m=\u001b[0m\u001b[0mnp\u001b[0m\u001b[0;34m.\u001b[0m\u001b[0mfloat64\u001b[0m\u001b[0;34m)\u001b[0m\u001b[0;34m\u001b[0m\u001b[0m\n\u001b[1;32m    402\u001b[0m     \u001b[0;32mreturn\u001b[0m \u001b[0mlabels\u001b[0m\u001b[0;34m,\u001b[0m \u001b[0minertia\u001b[0m\u001b[0;34m,\u001b[0m \u001b[0mcenters\u001b[0m\u001b[0;34m,\u001b[0m \u001b[0mn_iter\u001b[0m\u001b[0;34m\u001b[0m\u001b[0m\n",
      "\u001b[0;32msklearn/cluster/_k_means_elkan.pyx\u001b[0m in \u001b[0;36msklearn.cluster._k_means_elkan.k_means_elkan\u001b[0;34m()\u001b[0m\n",
      "\u001b[0;32m/opt/conda/lib/python3.6/site-packages/sklearn/metrics/pairwise.py\u001b[0m in \u001b[0;36meuclidean_distances\u001b[0;34m(X, Y, Y_norm_squared, squared, X_norm_squared)\u001b[0m\n\u001b[1;32m    161\u001b[0m \u001b[0;34m\u001b[0m\u001b[0m\n\u001b[1;32m    162\u001b[0m \u001b[0;31m# Pairwise distances\u001b[0m\u001b[0;34m\u001b[0m\u001b[0;34m\u001b[0m\u001b[0m\n\u001b[0;32m--> 163\u001b[0;31m def euclidean_distances(X, Y=None, Y_norm_squared=None, squared=False,\n\u001b[0m\u001b[1;32m    164\u001b[0m                         X_norm_squared=None):\n\u001b[1;32m    165\u001b[0m     \"\"\"\n",
      "\u001b[0;31mKeyboardInterrupt\u001b[0m: "
     ]
    }
   ],
   "source": [
    "scores = []\n",
    "# Over a number of different cluster counts...\n",
    "for i in range(2, 26, 1):\n",
    "\n",
    "    # run k-means clustering on the data and...\n",
    "    kmeans = KMeans(n_clusters = i)\n",
    "    model = kmeans.fit(azdias_pca)\n",
    "    score = np.abs(model.score(azdias_pca))\n",
    "    \n",
    "    # compute the average within-cluster distances.\n",
    "    print(f\"For cluster size {i}, score is {score}\")\n",
    "    scores.append(score)\n",
    "    "
   ]
  },
  {
   "cell_type": "code",
   "execution_count": 94,
   "metadata": {},
   "outputs": [
    {
     "data": {
      "text/plain": [
       "Text(0.5,1,'Score vs. # of clusters')"
      ]
     },
     "execution_count": 94,
     "metadata": {},
     "output_type": "execute_result"
    },
    {
     "data": {
      "image/png": "[encoded data removed]",
      "text/plain": [
       "<matplotlib.figure.Figure at 0x7f8651e942b0>"
      ]
     },
     "metadata": {
      "needs_background": "light"
     },
     "output_type": "display_data"
    }
   ],
   "source": [
    "# Investigate the change in within-cluster distance across number of clusters.\n",
    "# HINT: Use matplotlib's plot function to visualize this relationship.\n",
    "plt.plot(range(2, 26, 1), scores, linestyle = \"--\", marker = \"o\", color = \"orange\")\n",
    "plt.xlabel(\"# of clusters\")\n",
    "plt.ylabel(\"Score\")\n",
    "plt.title(\"Score vs. # of clusters\")"
   ]
  },
  {
   "cell_type": "code",
   "execution_count": 105,
   "metadata": {},
   "outputs": [
    {
     "data": {
      "text/plain": [
       "Text(0.5,1,'% change in score vs. # of clusters')"
      ]
     },
     "execution_count": 105,
     "metadata": {},
     "output_type": "execute_result"
    },
    {
     "data": {
      "image/png": "[encoded data removed]",
      "text/plain": [
       "<matplotlib.figure.Figure at 0x7f863b4a35f8>"
      ]
     },
     "metadata": {
      "needs_background": "light"
     },
     "output_type": "display_data"
    }
   ],
   "source": [
    "scores_series = pd.Series(scores)\n",
    "scores_series = scores_series.pct_change()\n",
    "plt.plot(range(3, 26, 1), scores_series[1:], linestyle = \"--\", marker = \"o\", color = \"orange\")\n",
    "plt.xlabel(\"# of clusters\")\n",
    "plt.ylabel(\"% change in score\")\n",
    "plt.title(\"% change in score vs. # of clusters\")"
   ]
  },
  {
   "cell_type": "code",
   "execution_count": 207,
   "metadata": {},
   "outputs": [],
   "source": [
    "# Re-fit the k-means model with the selected number of clusters and obtain\n",
    "# cluster predictions for the general population demographics data.\n",
    "kmeans = KMeans(20, random_state = 7)\n",
    "population_clusters = kmeans.fit_predict(azdias_pca)"
   ]
  },
  {
   "cell_type": "markdown",
   "metadata": {},
   "source": [
    "### Discussion 3.1: Apply Clustering to General Population\n",
    "\n",
    "The distance drop is marginal around 20th cluster so we choose that as the cluster size."
   ]
  },
  {
   "cell_type": "markdown",
   "metadata": {},
   "source": [
    "### Step 3.2: Apply All Steps to the Customer Data\n",
    "\n",
    "Now that you have clusters and cluster centers for the general population, it's time to see how the customer data maps on to those clusters. Take care to not confuse this for re-fitting all of the models to the customer data. Instead, you're going to use the fits from the general population to clean, transform, and cluster the customer data. In the last step of the project, you will interpret how the general population fits apply to the customer data.\n",
    "\n",
    "- Don't forget when loading in the customers data, that it is semicolon (`;`) delimited.\n",
    "- Apply the same feature wrangling, selection, and engineering steps to the customer demographics using the `clean_data()` function you created earlier. (You can assume that the customer demographics data has similar meaning behind missing data patterns as the general demographics data.)\n",
    "- Use the sklearn objects from the general demographics data, and apply their transformations to the customers data. That is, you should not be using a `.fit()` or `.fit_transform()` method to re-fit the old objects, nor should you be creating new sklearn objects! Carry the data through the feature scaling, PCA, and clustering steps, obtaining cluster assignments for all of the data in the customer demographics data."
   ]
  },
  {
   "cell_type": "code",
   "execution_count": 208,
   "metadata": {},
   "outputs": [],
   "source": [
    "# Load in the customer demographics data.\n",
    "customers = pd.read_csv(\"Udacity_CUSTOMERS_Subset.csv\", delimiter = \";\")"
   ]
  },
  {
   "cell_type": "code",
   "execution_count": 209,
   "metadata": {},
   "outputs": [
    {
     "name": "stderr",
     "output_type": "stream",
     "text": [
      "/opt/conda/lib/python3.6/site-packages/pandas/core/frame.py:3697: SettingWithCopyWarning: \n",
      "A value is trying to be set on a copy of a slice from a DataFrame\n",
      "\n",
      "See the caveats in the documentation: http://pandas.pydata.org/pandas-docs/stable/indexing.html#indexing-view-versus-copy\n",
      "  errors=errors)\n",
      "/opt/conda/lib/python3.6/site-packages/pandas/core/generic.py:5890: SettingWithCopyWarning: \n",
      "A value is trying to be set on a copy of a slice from a DataFrame\n",
      "\n",
      "See the caveats in the documentation: http://pandas.pydata.org/pandas-docs/stable/indexing.html#indexing-view-versus-copy\n",
      "  self._update_inplace(new_data)\n"
     ]
    },
    {
     "data": {
      "text/plain": [
       "(141590, 148)"
      ]
     },
     "execution_count": 209,
     "metadata": {},
     "output_type": "execute_result"
    }
   ],
   "source": [
    "# Apply preprocessing, feature transformation, and clustering from the general\n",
    "# demographics onto the customer data, obtaining cluster predictions for the\n",
    "# customer demographics data.\n",
    "customers = clean_data(customers)\n",
    "customers = pd.DataFrame(imputer.fit_transform(customers), columns = customers.columns)\n",
    "customers = pd.DataFrame(scaler.fit_transform(customers), columns = customers.columns)\n",
    "customers.shape"
   ]
  },
  {
   "cell_type": "code",
   "execution_count": 210,
   "metadata": {},
   "outputs": [],
   "source": [
    "customers_pca = pca.transform(customers)\n",
    "customers_clusters = kmeans.predict(customers_pca)"
   ]
  },
  {
   "cell_type": "markdown",
   "metadata": {},
   "source": [
    "### Step 3.3: Compare Customer Data to Demographics Data\n",
    "\n",
    "At this point, you have clustered data based on demographics of the general population of Germany, and seen how the customer data for a mail-order sales company maps onto those demographic clusters. In this final substep, you will compare the two cluster distributions to see where the strongest customer base for the company is.\n",
    "\n",
    "Consider the proportion of persons in each cluster for the general population, and the proportions for the customers. If we think the company's customer base to be universal, then the cluster assignment proportions should be fairly similar between the two. If there are only particular segments of the population that are interested in the company's products, then we should see a mismatch from one to the other. If there is a higher proportion of persons in a cluster for the customer data compared to the general population (e.g. 5% of persons are assigned to a cluster for the general population, but 15% of the customer data is closest to that cluster's centroid) then that suggests the people in that cluster to be a target audience for the company. On the other hand, the proportion of the data in a cluster being larger in the general population than the customer data (e.g. only 2% of customers closest to a population centroid that captures 6% of the data) suggests that group of persons to be outside of the target demographics.\n",
    "\n",
    "Take a look at the following points in this step:\n",
    "\n",
    "- Compute the proportion of data points in each cluster for the general population and the customer data. Visualizations will be useful here: both for the individual dataset proportions, but also to visualize the ratios in cluster representation between groups. Seaborn's [`countplot()`](https://seaborn.pydata.org/generated/seaborn.countplot.html) or [`barplot()`](https://seaborn.pydata.org/generated/seaborn.barplot.html) function could be handy.\n",
    "  - Recall the analysis you performed in step 1.1.3 of the project, where you separated out certain data points from the dataset if they had more than a specified threshold of missing values. If you found that this group was qualitatively different from the main bulk of the data, you should treat this as an additional data cluster in this analysis. Make sure that you account for the number of data points in this subset, for both the general population and customer datasets, when making your computations!\n",
    "- Which cluster or clusters are overrepresented in the customer dataset compared to the general population? Select at least one such cluster and infer what kind of people might be represented by that cluster. Use the principal component interpretations from step 2.3 or look at additional components to help you make this inference. Alternatively, you can use the `.inverse_transform()` method of the PCA and StandardScaler objects to transform centroids back to the original data space and interpret the retrieved values directly.\n",
    "- Perform a similar investigation for the underrepresented clusters. Which cluster or clusters are underrepresented in the customer dataset compared to the general population, and what kinds of people are typified by these clusters?"
   ]
  },
  {
   "cell_type": "code",
   "execution_count": 217,
   "metadata": {},
   "outputs": [
    {
     "data": {
      "text/plain": [
       "<matplotlib.legend.Legend at 0x7f86457fb898>"
      ]
     },
     "execution_count": 217,
     "metadata": {},
     "output_type": "execute_result"
    },
    {
     "data": {
      "image/png": "[encoded data removed]",
      "text/plain": [
       "<matplotlib.figure.Figure at 0x7f864641eba8>"
      ]
     },
     "metadata": {
      "needs_background": "light"
     },
     "output_type": "display_data"
    }
   ],
   "source": [
    "# Compare the proportion of data in each cluster for the customer data to the\n",
    "# proportion of data in each cluster for the general population.\n",
    "fig = plt.figure()\n",
    "ax1 = fig.add_axes([0, 0, 2, 1], title = \"Population vs Customer distribution plot\")\n",
    "ax2 = fig.add_axes([0, 1.5, 2, 1], title = \"Population count plot\")\n",
    "ax3 = fig.add_axes([0, 3, 2, 1], title = \"Customer count plot\")\n",
    "sns.distplot(population_clusters, label = \"Population\",ax = ax1)\n",
    "sns.distplot(customers_clusters, label = \"Customers\", ax = ax1)\n",
    "sns.countplot(population_clusters, label = \"Population\", ax = ax2)\n",
    "sns.countplot(customers_clusters, label = \"Customers\", ax = ax3)\n",
    "ax1.legend()"
   ]
  },
  {
   "cell_type": "code",
   "execution_count": 166,
   "metadata": {},
   "outputs": [
    {
     "data": {
      "text/plain": [
       "(797077,)"
      ]
     },
     "execution_count": 166,
     "metadata": {},
     "output_type": "execute_result"
    }
   ],
   "source": [
    "population_clusters.shape"
   ]
  },
  {
   "cell_type": "code",
   "execution_count": 233,
   "metadata": {},
   "outputs": [
    {
     "data": {
      "text/html": [
       "<div>\n",
       "<style scoped>\n",
       "    .dataframe tbody tr th:only-of-type {\n",
       "        vertical-align: middle;\n",
       "    }\n",
       "\n",
       "    .dataframe tbody tr th {\n",
       "        vertical-align: top;\n",
       "    }\n",
       "\n",
       "    .dataframe thead th {\n",
       "        text-align: right;\n",
       "    }\n",
       "</style>\n",
       "<table border=\"1\" class=\"dataframe\">\n",
       "  <thead>\n",
       "    <tr style=\"text-align: right;\">\n",
       "      <th></th>\n",
       "      <th>Diff_Percent</th>\n",
       "      <th>Customers_Percent</th>\n",
       "      <th>Population_Percent</th>\n",
       "    </tr>\n",
       "    <tr>\n",
       "      <th>Cluster</th>\n",
       "      <th></th>\n",
       "      <th></th>\n",
       "      <th></th>\n",
       "    </tr>\n",
       "  </thead>\n",
       "  <tbody>\n",
       "    <tr>\n",
       "      <th>16</th>\n",
       "      <td>5.737828</td>\n",
       "      <td>13.882336</td>\n",
       "      <td>8.144508</td>\n",
       "    </tr>\n",
       "    <tr>\n",
       "      <th>19</th>\n",
       "      <td>5.148770</td>\n",
       "      <td>9.006992</td>\n",
       "      <td>3.858222</td>\n",
       "    </tr>\n",
       "    <tr>\n",
       "      <th>2</th>\n",
       "      <td>4.880353</td>\n",
       "      <td>8.889752</td>\n",
       "      <td>4.009399</td>\n",
       "    </tr>\n",
       "    <tr>\n",
       "      <th>14</th>\n",
       "      <td>3.794096</td>\n",
       "      <td>9.256303</td>\n",
       "      <td>5.462208</td>\n",
       "    </tr>\n",
       "    <tr>\n",
       "      <th>18</th>\n",
       "      <td>2.677735</td>\n",
       "      <td>5.564659</td>\n",
       "      <td>2.886923</td>\n",
       "    </tr>\n",
       "    <tr>\n",
       "      <th>13</th>\n",
       "      <td>2.091005</td>\n",
       "      <td>5.179038</td>\n",
       "      <td>3.088033</td>\n",
       "    </tr>\n",
       "    <tr>\n",
       "      <th>15</th>\n",
       "      <td>1.041226</td>\n",
       "      <td>4.657815</td>\n",
       "      <td>3.616589</td>\n",
       "    </tr>\n",
       "    <tr>\n",
       "      <th>12</th>\n",
       "      <td>0.286780</td>\n",
       "      <td>4.813193</td>\n",
       "      <td>4.526413</td>\n",
       "    </tr>\n",
       "    <tr>\n",
       "      <th>11</th>\n",
       "      <td>-0.026450</td>\n",
       "      <td>0.401865</td>\n",
       "      <td>0.428315</td>\n",
       "    </tr>\n",
       "    <tr>\n",
       "      <th>0</th>\n",
       "      <td>-0.225402</td>\n",
       "      <td>2.822233</td>\n",
       "      <td>3.047635</td>\n",
       "    </tr>\n",
       "    <tr>\n",
       "      <th>4</th>\n",
       "      <td>-0.587227</td>\n",
       "      <td>5.405043</td>\n",
       "      <td>5.992269</td>\n",
       "    </tr>\n",
       "    <tr>\n",
       "      <th>3</th>\n",
       "      <td>-1.604232</td>\n",
       "      <td>3.322269</td>\n",
       "      <td>4.926500</td>\n",
       "    </tr>\n",
       "    <tr>\n",
       "      <th>17</th>\n",
       "      <td>-1.642177</td>\n",
       "      <td>3.704358</td>\n",
       "      <td>5.346535</td>\n",
       "    </tr>\n",
       "    <tr>\n",
       "      <th>9</th>\n",
       "      <td>-1.841058</td>\n",
       "      <td>3.588530</td>\n",
       "      <td>5.429588</td>\n",
       "    </tr>\n",
       "    <tr>\n",
       "      <th>6</th>\n",
       "      <td>-1.962845</td>\n",
       "      <td>6.077407</td>\n",
       "      <td>8.040252</td>\n",
       "    </tr>\n",
       "    <tr>\n",
       "      <th>5</th>\n",
       "      <td>-2.267058</td>\n",
       "      <td>1.054453</td>\n",
       "      <td>3.321511</td>\n",
       "    </tr>\n",
       "    <tr>\n",
       "      <th>1</th>\n",
       "      <td>-2.880853</td>\n",
       "      <td>5.587965</td>\n",
       "      <td>8.468818</td>\n",
       "    </tr>\n",
       "    <tr>\n",
       "      <th>8</th>\n",
       "      <td>-4.013512</td>\n",
       "      <td>2.166820</td>\n",
       "      <td>6.180331</td>\n",
       "    </tr>\n",
       "    <tr>\n",
       "      <th>7</th>\n",
       "      <td>-4.015668</td>\n",
       "      <td>2.493114</td>\n",
       "      <td>6.508781</td>\n",
       "    </tr>\n",
       "    <tr>\n",
       "      <th>10</th>\n",
       "      <td>-4.591312</td>\n",
       "      <td>2.125856</td>\n",
       "      <td>6.717168</td>\n",
       "    </tr>\n",
       "  </tbody>\n",
       "</table>\n",
       "</div>"
      ],
      "text/plain": [
       "         Diff_Percent  Customers_Percent  Population_Percent\n",
       "Cluster                                                     \n",
       "16           5.737828          13.882336            8.144508\n",
       "19           5.148770           9.006992            3.858222\n",
       "2            4.880353           8.889752            4.009399\n",
       "14           3.794096           9.256303            5.462208\n",
       "18           2.677735           5.564659            2.886923\n",
       "13           2.091005           5.179038            3.088033\n",
       "15           1.041226           4.657815            3.616589\n",
       "12           0.286780           4.813193            4.526413\n",
       "11          -0.026450           0.401865            0.428315\n",
       "0           -0.225402           2.822233            3.047635\n",
       "4           -0.587227           5.405043            5.992269\n",
       "3           -1.604232           3.322269            4.926500\n",
       "17          -1.642177           3.704358            5.346535\n",
       "9           -1.841058           3.588530            5.429588\n",
       "6           -1.962845           6.077407            8.040252\n",
       "5           -2.267058           1.054453            3.321511\n",
       "1           -2.880853           5.587965            8.468818\n",
       "8           -4.013512           2.166820            6.180331\n",
       "7           -4.015668           2.493114            6.508781\n",
       "10          -4.591312           2.125856            6.717168"
      ]
     },
     "execution_count": 233,
     "metadata": {},
     "output_type": "execute_result"
    }
   ],
   "source": [
    "# What kinds of people are part of a cluster that is overrepresented in the\n",
    "# customer data compared to the general population?\n",
    "customers_df = pd.DataFrame(customers_clusters, columns=[\"Cluster\"]).reset_index().groupby(\"Cluster\").count() / len(customers_clusters) * 100\n",
    "population_df = pd.DataFrame(population_clusters, columns=[\"Cluster\"]).reset_index().groupby(\"Cluster\").count() / len(population_clusters) * 100\n",
    "diff_df = (customers_df - population_df)\n",
    "diff_df.rename({\"index\": \"Diff_Percent\"}, axis = 1, inplace = True)\n",
    "customers_df.rename({\"index\": \"Customers_Percent\"}, axis = 1, inplace = True)\n",
    "population_df.rename({\"index\": \"Population_Percent\"}, axis = 1, inplace = True)\n",
    "diff_df = diff_df.join(customers_df).join(population_df).sort_values(\"Diff_Percent\", ascending = False)\n",
    "diff_df.fillna(0, inplace = True)\n",
    "diff_df\n"
   ]
  },
  {
   "cell_type": "code",
   "execution_count": 235,
   "metadata": {},
   "outputs": [
    {
     "data": {
      "text/html": [
       "<div>\n",
       "<style scoped>\n",
       "    .dataframe tbody tr th:only-of-type {\n",
       "        vertical-align: middle;\n",
       "    }\n",
       "\n",
       "    .dataframe tbody tr th {\n",
       "        vertical-align: top;\n",
       "    }\n",
       "\n",
       "    .dataframe thead th {\n",
       "        text-align: right;\n",
       "    }\n",
       "</style>\n",
       "<table border=\"1\" class=\"dataframe\">\n",
       "  <thead>\n",
       "    <tr style=\"text-align: right;\">\n",
       "      <th></th>\n",
       "      <th>ALTERSKATEGORIE_GROB</th>\n",
       "      <th>ANREDE_KZ</th>\n",
       "      <th>FINANZ_MINIMALIST</th>\n",
       "      <th>FINANZ_SPARER</th>\n",
       "      <th>FINANZ_VORSORGER</th>\n",
       "      <th>FINANZ_ANLEGER</th>\n",
       "      <th>FINANZ_UNAUFFAELLIGER</th>\n",
       "      <th>FINANZ_HAUSBAUER</th>\n",
       "      <th>GREEN_AVANTGARDE</th>\n",
       "      <th>HEALTH_TYP</th>\n",
       "      <th>...</th>\n",
       "      <th>CAMEO_DEUG_2015_4</th>\n",
       "      <th>CAMEO_DEUG_2015_5</th>\n",
       "      <th>CAMEO_DEUG_2015_6</th>\n",
       "      <th>CAMEO_DEUG_2015_7</th>\n",
       "      <th>CAMEO_DEUG_2015_8</th>\n",
       "      <th>CAMEO_DEUG_2015_9</th>\n",
       "      <th>PRAEGENDE_JUGENDJAHRE_MAINSTREAM</th>\n",
       "      <th>PRAEGENDE_JUGENDJAHRE_DECADE</th>\n",
       "      <th>CAMEO_INTL_2015_WEALTH</th>\n",
       "      <th>CAMEO_INTL_2015_LIFESTAGE</th>\n",
       "    </tr>\n",
       "  </thead>\n",
       "  <tbody>\n",
       "    <tr>\n",
       "      <th>0</th>\n",
       "      <td>3.947508</td>\n",
       "      <td>1.256115</td>\n",
       "      <td>4.197506</td>\n",
       "      <td>0.870968</td>\n",
       "      <td>5.194166</td>\n",
       "      <td>0.870337</td>\n",
       "      <td>1.033771</td>\n",
       "      <td>3.703734</td>\n",
       "      <td>0.238480</td>\n",
       "      <td>1.990160</td>\n",
       "      <td>...</td>\n",
       "      <td>0.008184</td>\n",
       "      <td>0.091393</td>\n",
       "      <td>0.137693</td>\n",
       "      <td>0.105787</td>\n",
       "      <td>0.124749</td>\n",
       "      <td>0.607329</td>\n",
       "      <td>65.879440</td>\n",
       "      <td>1.466822</td>\n",
       "      <td>4.222965</td>\n",
       "      <td>-0.044590</td>\n",
       "    </tr>\n",
       "    <tr>\n",
       "      <th>1</th>\n",
       "      <td>3.756012</td>\n",
       "      <td>0.906550</td>\n",
       "      <td>4.292759</td>\n",
       "      <td>1.061203</td>\n",
       "      <td>5.007311</td>\n",
       "      <td>0.793071</td>\n",
       "      <td>1.168359</td>\n",
       "      <td>3.143834</td>\n",
       "      <td>0.217425</td>\n",
       "      <td>2.157894</td>\n",
       "      <td>...</td>\n",
       "      <td>0.003912</td>\n",
       "      <td>0.084477</td>\n",
       "      <td>0.064094</td>\n",
       "      <td>0.100489</td>\n",
       "      <td>0.120521</td>\n",
       "      <td>0.813286</td>\n",
       "      <td>66.476091</td>\n",
       "      <td>1.873868</td>\n",
       "      <td>4.383164</td>\n",
       "      <td>-0.435597</td>\n",
       "    </tr>\n",
       "    <tr>\n",
       "      <th>2</th>\n",
       "      <td>3.942289</td>\n",
       "      <td>1.351595</td>\n",
       "      <td>5.390574</td>\n",
       "      <td>0.810914</td>\n",
       "      <td>5.076958</td>\n",
       "      <td>0.971591</td>\n",
       "      <td>1.428522</td>\n",
       "      <td>1.759256</td>\n",
       "      <td>1.433825</td>\n",
       "      <td>1.770619</td>\n",
       "      <td>...</td>\n",
       "      <td>0.112593</td>\n",
       "      <td>0.107491</td>\n",
       "      <td>0.039278</td>\n",
       "      <td>0.036758</td>\n",
       "      <td>-0.012763</td>\n",
       "      <td>0.303971</td>\n",
       "      <td>33.886455</td>\n",
       "      <td>1.844696</td>\n",
       "      <td>2.263182</td>\n",
       "      <td>0.493714</td>\n",
       "    </tr>\n",
       "    <tr>\n",
       "      <th>3</th>\n",
       "      <td>2.775799</td>\n",
       "      <td>0.800322</td>\n",
       "      <td>4.111697</td>\n",
       "      <td>2.225389</td>\n",
       "      <td>3.708276</td>\n",
       "      <td>2.359715</td>\n",
       "      <td>2.883873</td>\n",
       "      <td>2.156081</td>\n",
       "      <td>0.451152</td>\n",
       "      <td>2.048198</td>\n",
       "      <td>...</td>\n",
       "      <td>0.149536</td>\n",
       "      <td>0.156986</td>\n",
       "      <td>0.110069</td>\n",
       "      <td>0.057972</td>\n",
       "      <td>-0.040762</td>\n",
       "      <td>0.405279</td>\n",
       "      <td>60.205724</td>\n",
       "      <td>3.966730</td>\n",
       "      <td>2.780471</td>\n",
       "      <td>0.203657</td>\n",
       "    </tr>\n",
       "    <tr>\n",
       "      <th>4</th>\n",
       "      <td>3.980481</td>\n",
       "      <td>1.692213</td>\n",
       "      <td>5.169329</td>\n",
       "      <td>0.799562</td>\n",
       "      <td>5.032040</td>\n",
       "      <td>1.458023</td>\n",
       "      <td>1.330558</td>\n",
       "      <td>1.975619</td>\n",
       "      <td>0.205615</td>\n",
       "      <td>1.825605</td>\n",
       "      <td>...</td>\n",
       "      <td>0.184476</td>\n",
       "      <td>0.161731</td>\n",
       "      <td>0.073142</td>\n",
       "      <td>0.079512</td>\n",
       "      <td>-0.025460</td>\n",
       "      <td>0.302056</td>\n",
       "      <td>66.736371</td>\n",
       "      <td>1.728068</td>\n",
       "      <td>2.633819</td>\n",
       "      <td>0.303037</td>\n",
       "    </tr>\n",
       "    <tr>\n",
       "      <th>5</th>\n",
       "      <td>3.123130</td>\n",
       "      <td>1.519340</td>\n",
       "      <td>3.788156</td>\n",
       "      <td>1.926463</td>\n",
       "      <td>4.164268</td>\n",
       "      <td>2.329298</td>\n",
       "      <td>2.322390</td>\n",
       "      <td>2.568277</td>\n",
       "      <td>0.455215</td>\n",
       "      <td>2.014466</td>\n",
       "      <td>...</td>\n",
       "      <td>0.085786</td>\n",
       "      <td>0.224279</td>\n",
       "      <td>0.094664</td>\n",
       "      <td>0.057106</td>\n",
       "      <td>0.000723</td>\n",
       "      <td>0.532970</td>\n",
       "      <td>60.249100</td>\n",
       "      <td>3.630991</td>\n",
       "      <td>3.266589</td>\n",
       "      <td>-0.039259</td>\n",
       "    </tr>\n",
       "    <tr>\n",
       "      <th>6</th>\n",
       "      <td>4.066147</td>\n",
       "      <td>1.723903</td>\n",
       "      <td>3.808984</td>\n",
       "      <td>0.980490</td>\n",
       "      <td>5.100460</td>\n",
       "      <td>1.134442</td>\n",
       "      <td>1.173972</td>\n",
       "      <td>3.849738</td>\n",
       "      <td>0.216762</td>\n",
       "      <td>1.871214</td>\n",
       "      <td>...</td>\n",
       "      <td>0.007305</td>\n",
       "      <td>0.095691</td>\n",
       "      <td>0.098911</td>\n",
       "      <td>0.097752</td>\n",
       "      <td>0.118869</td>\n",
       "      <td>0.703395</td>\n",
       "      <td>66.269686</td>\n",
       "      <td>1.627354</td>\n",
       "      <td>4.263852</td>\n",
       "      <td>-0.149949</td>\n",
       "    </tr>\n",
       "    <tr>\n",
       "      <th>7</th>\n",
       "      <td>2.747439</td>\n",
       "      <td>1.765850</td>\n",
       "      <td>2.798164</td>\n",
       "      <td>2.378829</td>\n",
       "      <td>3.791763</td>\n",
       "      <td>2.541823</td>\n",
       "      <td>2.577751</td>\n",
       "      <td>3.911827</td>\n",
       "      <td>0.280344</td>\n",
       "      <td>1.939274</td>\n",
       "      <td>...</td>\n",
       "      <td>-0.028271</td>\n",
       "      <td>0.108774</td>\n",
       "      <td>0.017914</td>\n",
       "      <td>0.142328</td>\n",
       "      <td>0.157674</td>\n",
       "      <td>0.878263</td>\n",
       "      <td>64.236640</td>\n",
       "      <td>3.753351</td>\n",
       "      <td>4.698914</td>\n",
       "      <td>-0.777039</td>\n",
       "    </tr>\n",
       "    <tr>\n",
       "      <th>8</th>\n",
       "      <td>2.814032</td>\n",
       "      <td>1.769666</td>\n",
       "      <td>2.862504</td>\n",
       "      <td>2.419198</td>\n",
       "      <td>3.859855</td>\n",
       "      <td>2.730817</td>\n",
       "      <td>2.817362</td>\n",
       "      <td>3.654000</td>\n",
       "      <td>0.256771</td>\n",
       "      <td>1.985974</td>\n",
       "      <td>...</td>\n",
       "      <td>0.071856</td>\n",
       "      <td>0.109744</td>\n",
       "      <td>0.113411</td>\n",
       "      <td>0.105137</td>\n",
       "      <td>0.079189</td>\n",
       "      <td>0.487562</td>\n",
       "      <td>64.934102</td>\n",
       "      <td>3.832006</td>\n",
       "      <td>3.656744</td>\n",
       "      <td>-0.120579</td>\n",
       "    </tr>\n",
       "    <tr>\n",
       "      <th>9</th>\n",
       "      <td>2.765703</td>\n",
       "      <td>1.743413</td>\n",
       "      <td>3.739042</td>\n",
       "      <td>2.114564</td>\n",
       "      <td>3.792931</td>\n",
       "      <td>2.678459</td>\n",
       "      <td>2.839929</td>\n",
       "      <td>2.412114</td>\n",
       "      <td>0.424176</td>\n",
       "      <td>2.057069</td>\n",
       "      <td>...</td>\n",
       "      <td>0.167786</td>\n",
       "      <td>0.155021</td>\n",
       "      <td>0.060892</td>\n",
       "      <td>0.047551</td>\n",
       "      <td>-0.046207</td>\n",
       "      <td>0.340580</td>\n",
       "      <td>60.810362</td>\n",
       "      <td>3.887336</td>\n",
       "      <td>2.436857</td>\n",
       "      <td>0.310690</td>\n",
       "    </tr>\n",
       "    <tr>\n",
       "      <th>10</th>\n",
       "      <td>2.812396</td>\n",
       "      <td>0.807018</td>\n",
       "      <td>3.274497</td>\n",
       "      <td>2.483177</td>\n",
       "      <td>3.628851</td>\n",
       "      <td>2.234668</td>\n",
       "      <td>2.766061</td>\n",
       "      <td>3.239781</td>\n",
       "      <td>0.302391</td>\n",
       "      <td>2.136233</td>\n",
       "      <td>...</td>\n",
       "      <td>-0.004880</td>\n",
       "      <td>0.096330</td>\n",
       "      <td>0.067297</td>\n",
       "      <td>0.154301</td>\n",
       "      <td>0.133000</td>\n",
       "      <td>0.767798</td>\n",
       "      <td>64.072345</td>\n",
       "      <td>4.044860</td>\n",
       "      <td>4.506026</td>\n",
       "      <td>-0.620737</td>\n",
       "    </tr>\n",
       "    <tr>\n",
       "      <th>11</th>\n",
       "      <td>3.628127</td>\n",
       "      <td>1.242843</td>\n",
       "      <td>4.656712</td>\n",
       "      <td>1.110562</td>\n",
       "      <td>4.852919</td>\n",
       "      <td>1.258502</td>\n",
       "      <td>1.791279</td>\n",
       "      <td>2.667290</td>\n",
       "      <td>0.996416</td>\n",
       "      <td>2.271309</td>\n",
       "      <td>...</td>\n",
       "      <td>-0.243397</td>\n",
       "      <td>0.527001</td>\n",
       "      <td>-0.029372</td>\n",
       "      <td>-0.063305</td>\n",
       "      <td>0.067727</td>\n",
       "      <td>0.464572</td>\n",
       "      <td>44.918650</td>\n",
       "      <td>1.909007</td>\n",
       "      <td>2.691710</td>\n",
       "      <td>0.629395</td>\n",
       "    </tr>\n",
       "    <tr>\n",
       "      <th>12</th>\n",
       "      <td>3.324460</td>\n",
       "      <td>1.326048</td>\n",
       "      <td>4.682729</td>\n",
       "      <td>1.671841</td>\n",
       "      <td>4.292044</td>\n",
       "      <td>2.034392</td>\n",
       "      <td>2.298253</td>\n",
       "      <td>1.333501</td>\n",
       "      <td>0.690237</td>\n",
       "      <td>2.019514</td>\n",
       "      <td>...</td>\n",
       "      <td>0.136293</td>\n",
       "      <td>0.139527</td>\n",
       "      <td>0.046076</td>\n",
       "      <td>0.044878</td>\n",
       "      <td>-0.017522</td>\n",
       "      <td>0.338625</td>\n",
       "      <td>53.910751</td>\n",
       "      <td>3.499448</td>\n",
       "      <td>2.501065</td>\n",
       "      <td>0.205900</td>\n",
       "    </tr>\n",
       "    <tr>\n",
       "      <th>13</th>\n",
       "      <td>3.982250</td>\n",
       "      <td>1.732038</td>\n",
       "      <td>4.243058</td>\n",
       "      <td>0.779369</td>\n",
       "      <td>5.210765</td>\n",
       "      <td>0.821413</td>\n",
       "      <td>1.423072</td>\n",
       "      <td>3.596284</td>\n",
       "      <td>0.714700</td>\n",
       "      <td>1.837976</td>\n",
       "      <td>...</td>\n",
       "      <td>0.067569</td>\n",
       "      <td>0.214772</td>\n",
       "      <td>0.106525</td>\n",
       "      <td>0.169304</td>\n",
       "      <td>0.046663</td>\n",
       "      <td>0.352688</td>\n",
       "      <td>52.890670</td>\n",
       "      <td>1.533059</td>\n",
       "      <td>3.417481</td>\n",
       "      <td>0.194435</td>\n",
       "    </tr>\n",
       "    <tr>\n",
       "      <th>14</th>\n",
       "      <td>4.019308</td>\n",
       "      <td>1.301605</td>\n",
       "      <td>5.442149</td>\n",
       "      <td>0.635627</td>\n",
       "      <td>5.237655</td>\n",
       "      <td>0.682374</td>\n",
       "      <td>1.343109</td>\n",
       "      <td>2.033602</td>\n",
       "      <td>1.433351</td>\n",
       "      <td>1.788835</td>\n",
       "      <td>...</td>\n",
       "      <td>0.111927</td>\n",
       "      <td>0.108912</td>\n",
       "      <td>0.048114</td>\n",
       "      <td>0.030186</td>\n",
       "      <td>-0.008679</td>\n",
       "      <td>0.298331</td>\n",
       "      <td>33.738438</td>\n",
       "      <td>1.396246</td>\n",
       "      <td>2.274615</td>\n",
       "      <td>0.562334</td>\n",
       "    </tr>\n",
       "    <tr>\n",
       "      <th>15</th>\n",
       "      <td>3.620397</td>\n",
       "      <td>1.224753</td>\n",
       "      <td>4.826186</td>\n",
       "      <td>1.201326</td>\n",
       "      <td>4.648366</td>\n",
       "      <td>1.453839</td>\n",
       "      <td>1.693643</td>\n",
       "      <td>2.160362</td>\n",
       "      <td>0.715608</td>\n",
       "      <td>1.898031</td>\n",
       "      <td>...</td>\n",
       "      <td>0.191225</td>\n",
       "      <td>0.124752</td>\n",
       "      <td>0.051214</td>\n",
       "      <td>0.100106</td>\n",
       "      <td>0.000776</td>\n",
       "      <td>0.314449</td>\n",
       "      <td>53.113788</td>\n",
       "      <td>2.415728</td>\n",
       "      <td>2.691702</td>\n",
       "      <td>0.150002</td>\n",
       "    </tr>\n",
       "    <tr>\n",
       "      <th>16</th>\n",
       "      <td>3.805066</td>\n",
       "      <td>0.938804</td>\n",
       "      <td>5.507925</td>\n",
       "      <td>0.896192</td>\n",
       "      <td>4.996121</td>\n",
       "      <td>1.186851</td>\n",
       "      <td>1.357127</td>\n",
       "      <td>1.569926</td>\n",
       "      <td>0.234761</td>\n",
       "      <td>2.006059</td>\n",
       "      <td>...</td>\n",
       "      <td>0.171721</td>\n",
       "      <td>0.147254</td>\n",
       "      <td>0.071440</td>\n",
       "      <td>0.077700</td>\n",
       "      <td>-0.017077</td>\n",
       "      <td>0.315491</td>\n",
       "      <td>66.137541</td>\n",
       "      <td>1.919903</td>\n",
       "      <td>2.682436</td>\n",
       "      <td>0.240640</td>\n",
       "    </tr>\n",
       "    <tr>\n",
       "      <th>17</th>\n",
       "      <td>3.986256</td>\n",
       "      <td>1.511635</td>\n",
       "      <td>4.195971</td>\n",
       "      <td>0.961730</td>\n",
       "      <td>5.014680</td>\n",
       "      <td>1.652331</td>\n",
       "      <td>1.181253</td>\n",
       "      <td>3.510839</td>\n",
       "      <td>0.314538</td>\n",
       "      <td>1.842136</td>\n",
       "      <td>...</td>\n",
       "      <td>0.086233</td>\n",
       "      <td>0.129906</td>\n",
       "      <td>0.124814</td>\n",
       "      <td>0.127428</td>\n",
       "      <td>0.050202</td>\n",
       "      <td>0.387870</td>\n",
       "      <td>63.748807</td>\n",
       "      <td>1.756674</td>\n",
       "      <td>3.467610</td>\n",
       "      <td>0.150381</td>\n",
       "    </tr>\n",
       "    <tr>\n",
       "      <th>18</th>\n",
       "      <td>3.072568</td>\n",
       "      <td>1.137500</td>\n",
       "      <td>5.043705</td>\n",
       "      <td>1.747674</td>\n",
       "      <td>3.932646</td>\n",
       "      <td>1.677895</td>\n",
       "      <td>2.650661</td>\n",
       "      <td>0.856769</td>\n",
       "      <td>1.462987</td>\n",
       "      <td>2.045054</td>\n",
       "      <td>...</td>\n",
       "      <td>0.133538</td>\n",
       "      <td>0.118148</td>\n",
       "      <td>0.027664</td>\n",
       "      <td>0.000052</td>\n",
       "      <td>-0.015101</td>\n",
       "      <td>0.365155</td>\n",
       "      <td>33.288851</td>\n",
       "      <td>3.606226</td>\n",
       "      <td>2.335455</td>\n",
       "      <td>0.297506</td>\n",
       "    </tr>\n",
       "    <tr>\n",
       "      <th>19</th>\n",
       "      <td>3.679062</td>\n",
       "      <td>0.880259</td>\n",
       "      <td>4.583424</td>\n",
       "      <td>0.992841</td>\n",
       "      <td>4.949871</td>\n",
       "      <td>0.550427</td>\n",
       "      <td>1.589901</td>\n",
       "      <td>3.068401</td>\n",
       "      <td>0.758594</td>\n",
       "      <td>1.844037</td>\n",
       "      <td>...</td>\n",
       "      <td>0.032161</td>\n",
       "      <td>0.221085</td>\n",
       "      <td>0.088179</td>\n",
       "      <td>0.191783</td>\n",
       "      <td>0.068086</td>\n",
       "      <td>0.428135</td>\n",
       "      <td>51.899728</td>\n",
       "      <td>1.943328</td>\n",
       "      <td>3.668170</td>\n",
       "      <td>-0.102833</td>\n",
       "    </tr>\n",
       "  </tbody>\n",
       "</table>\n",
       "<p>20 rows × 148 columns</p>\n",
       "</div>"
      ],
      "text/plain": [
       "    ALTERSKATEGORIE_GROB  ANREDE_KZ  FINANZ_MINIMALIST  FINANZ_SPARER  \\\n",
       "0               3.947508   1.256115           4.197506       0.870968   \n",
       "1               3.756012   0.906550           4.292759       1.061203   \n",
       "2               3.942289   1.351595           5.390574       0.810914   \n",
       "3               2.775799   0.800322           4.111697       2.225389   \n",
       "4               3.980481   1.692213           5.169329       0.799562   \n",
       "5               3.123130   1.519340           3.788156       1.926463   \n",
       "6               4.066147   1.723903           3.808984       0.980490   \n",
       "7               2.747439   1.765850           2.798164       2.378829   \n",
       "8               2.814032   1.769666           2.862504       2.419198   \n",
       "9               2.765703   1.743413           3.739042       2.114564   \n",
       "10              2.812396   0.807018           3.274497       2.483177   \n",
       "11              3.628127   1.242843           4.656712       1.110562   \n",
       "12              3.324460   1.326048           4.682729       1.671841   \n",
       "13              3.982250   1.732038           4.243058       0.779369   \n",
       "14              4.019308   1.301605           5.442149       0.635627   \n",
       "15              3.620397   1.224753           4.826186       1.201326   \n",
       "16              3.805066   0.938804           5.507925       0.896192   \n",
       "17              3.986256   1.511635           4.195971       0.961730   \n",
       "18              3.072568   1.137500           5.043705       1.747674   \n",
       "19              3.679062   0.880259           4.583424       0.992841   \n",
       "\n",
       "    FINANZ_VORSORGER  FINANZ_ANLEGER  FINANZ_UNAUFFAELLIGER  FINANZ_HAUSBAUER  \\\n",
       "0           5.194166        0.870337               1.033771          3.703734   \n",
       "1           5.007311        0.793071               1.168359          3.143834   \n",
       "2           5.076958        0.971591               1.428522          1.759256   \n",
       "3           3.708276        2.359715               2.883873          2.156081   \n",
       "4           5.032040        1.458023               1.330558          1.975619   \n",
       "5           4.164268        2.329298               2.322390          2.568277   \n",
       "6           5.100460        1.134442               1.173972          3.849738   \n",
       "7           3.791763        2.541823               2.577751          3.911827   \n",
       "8           3.859855        2.730817               2.817362          3.654000   \n",
       "9           3.792931        2.678459               2.839929          2.412114   \n",
       "10          3.628851        2.234668               2.766061          3.239781   \n",
       "11          4.852919        1.258502               1.791279          2.667290   \n",
       "12          4.292044        2.034392               2.298253          1.333501   \n",
       "13          5.210765        0.821413               1.423072          3.596284   \n",
       "14          5.237655        0.682374               1.343109          2.033602   \n",
       "15          4.648366        1.453839               1.693643          2.160362   \n",
       "16          4.996121        1.186851               1.357127          1.569926   \n",
       "17          5.014680        1.652331               1.181253          3.510839   \n",
       "18          3.932646        1.677895               2.650661          0.856769   \n",
       "19          4.949871        0.550427               1.589901          3.068401   \n",
       "\n",
       "    GREEN_AVANTGARDE  HEALTH_TYP            ...              \\\n",
       "0           0.238480    1.990160            ...               \n",
       "1           0.217425    2.157894            ...               \n",
       "2           1.433825    1.770619            ...               \n",
       "3           0.451152    2.048198            ...               \n",
       "4           0.205615    1.825605            ...               \n",
       "5           0.455215    2.014466            ...               \n",
       "6           0.216762    1.871214            ...               \n",
       "7           0.280344    1.939274            ...               \n",
       "8           0.256771    1.985974            ...               \n",
       "9           0.424176    2.057069            ...               \n",
       "10          0.302391    2.136233            ...               \n",
       "11          0.996416    2.271309            ...               \n",
       "12          0.690237    2.019514            ...               \n",
       "13          0.714700    1.837976            ...               \n",
       "14          1.433351    1.788835            ...               \n",
       "15          0.715608    1.898031            ...               \n",
       "16          0.234761    2.006059            ...               \n",
       "17          0.314538    1.842136            ...               \n",
       "18          1.462987    2.045054            ...               \n",
       "19          0.758594    1.844037            ...               \n",
       "\n",
       "    CAMEO_DEUG_2015_4  CAMEO_DEUG_2015_5  CAMEO_DEUG_2015_6  \\\n",
       "0            0.008184           0.091393           0.137693   \n",
       "1            0.003912           0.084477           0.064094   \n",
       "2            0.112593           0.107491           0.039278   \n",
       "3            0.149536           0.156986           0.110069   \n",
       "4            0.184476           0.161731           0.073142   \n",
       "5            0.085786           0.224279           0.094664   \n",
       "6            0.007305           0.095691           0.098911   \n",
       "7           -0.028271           0.108774           0.017914   \n",
       "8            0.071856           0.109744           0.113411   \n",
       "9            0.167786           0.155021           0.060892   \n",
       "10          -0.004880           0.096330           0.067297   \n",
       "11          -0.243397           0.527001          -0.029372   \n",
       "12           0.136293           0.139527           0.046076   \n",
       "13           0.067569           0.214772           0.106525   \n",
       "14           0.111927           0.108912           0.048114   \n",
       "15           0.191225           0.124752           0.051214   \n",
       "16           0.171721           0.147254           0.071440   \n",
       "17           0.086233           0.129906           0.124814   \n",
       "18           0.133538           0.118148           0.027664   \n",
       "19           0.032161           0.221085           0.088179   \n",
       "\n",
       "    CAMEO_DEUG_2015_7  CAMEO_DEUG_2015_8  CAMEO_DEUG_2015_9  \\\n",
       "0            0.105787           0.124749           0.607329   \n",
       "1            0.100489           0.120521           0.813286   \n",
       "2            0.036758          -0.012763           0.303971   \n",
       "3            0.057972          -0.040762           0.405279   \n",
       "4            0.079512          -0.025460           0.302056   \n",
       "5            0.057106           0.000723           0.532970   \n",
       "6            0.097752           0.118869           0.703395   \n",
       "7            0.142328           0.157674           0.878263   \n",
       "8            0.105137           0.079189           0.487562   \n",
       "9            0.047551          -0.046207           0.340580   \n",
       "10           0.154301           0.133000           0.767798   \n",
       "11          -0.063305           0.067727           0.464572   \n",
       "12           0.044878          -0.017522           0.338625   \n",
       "13           0.169304           0.046663           0.352688   \n",
       "14           0.030186          -0.008679           0.298331   \n",
       "15           0.100106           0.000776           0.314449   \n",
       "16           0.077700          -0.017077           0.315491   \n",
       "17           0.127428           0.050202           0.387870   \n",
       "18           0.000052          -0.015101           0.365155   \n",
       "19           0.191783           0.068086           0.428135   \n",
       "\n",
       "    PRAEGENDE_JUGENDJAHRE_MAINSTREAM  PRAEGENDE_JUGENDJAHRE_DECADE  \\\n",
       "0                          65.879440                      1.466822   \n",
       "1                          66.476091                      1.873868   \n",
       "2                          33.886455                      1.844696   \n",
       "3                          60.205724                      3.966730   \n",
       "4                          66.736371                      1.728068   \n",
       "5                          60.249100                      3.630991   \n",
       "6                          66.269686                      1.627354   \n",
       "7                          64.236640                      3.753351   \n",
       "8                          64.934102                      3.832006   \n",
       "9                          60.810362                      3.887336   \n",
       "10                         64.072345                      4.044860   \n",
       "11                         44.918650                      1.909007   \n",
       "12                         53.910751                      3.499448   \n",
       "13                         52.890670                      1.533059   \n",
       "14                         33.738438                      1.396246   \n",
       "15                         53.113788                      2.415728   \n",
       "16                         66.137541                      1.919903   \n",
       "17                         63.748807                      1.756674   \n",
       "18                         33.288851                      3.606226   \n",
       "19                         51.899728                      1.943328   \n",
       "\n",
       "    CAMEO_INTL_2015_WEALTH  CAMEO_INTL_2015_LIFESTAGE  \n",
       "0                 4.222965                  -0.044590  \n",
       "1                 4.383164                  -0.435597  \n",
       "2                 2.263182                   0.493714  \n",
       "3                 2.780471                   0.203657  \n",
       "4                 2.633819                   0.303037  \n",
       "5                 3.266589                  -0.039259  \n",
       "6                 4.263852                  -0.149949  \n",
       "7                 4.698914                  -0.777039  \n",
       "8                 3.656744                  -0.120579  \n",
       "9                 2.436857                   0.310690  \n",
       "10                4.506026                  -0.620737  \n",
       "11                2.691710                   0.629395  \n",
       "12                2.501065                   0.205900  \n",
       "13                3.417481                   0.194435  \n",
       "14                2.274615                   0.562334  \n",
       "15                2.691702                   0.150002  \n",
       "16                2.682436                   0.240640  \n",
       "17                3.467610                   0.150381  \n",
       "18                2.335455                   0.297506  \n",
       "19                3.668170                  -0.102833  \n",
       "\n",
       "[20 rows x 148 columns]"
      ]
     },
     "execution_count": 235,
     "metadata": {},
     "output_type": "execute_result"
    }
   ],
   "source": [
    "# What kinds of people are part of a cluster that is underrepresented in the\n",
    "# customer data compared to the general population?\n",
    "cluster_specs = pd.DataFrame(scaler.inverse_transform(pca.inverse_transform(kmeans.cluster_centers_)), columns = azdias_missing_below_threshold.columns)\n",
    "cluster_specs"
   ]
  },
  {
   "cell_type": "code",
   "execution_count": 237,
   "metadata": {},
   "outputs": [
    {
     "data": {
      "text/plain": [
       "ALTERSKATEGORIE_GROB                 3.805066\n",
       "ANREDE_KZ                            0.938804\n",
       "FINANZ_MINIMALIST                    5.507925\n",
       "FINANZ_SPARER                        0.896192\n",
       "FINANZ_VORSORGER                     4.996121\n",
       "FINANZ_ANLEGER                       1.186851\n",
       "FINANZ_UNAUFFAELLIGER                1.357127\n",
       "FINANZ_HAUSBAUER                     1.569926\n",
       "GREEN_AVANTGARDE                     0.234761\n",
       "HEALTH_TYP                           2.006059\n",
       "RETOURTYP_BK_S                       4.174026\n",
       "SEMIO_SOZ                            4.864586\n",
       "SEMIO_FAM                            4.422758\n",
       "SEMIO_REL                            3.036675\n",
       "SEMIO_MAT                            3.093372\n",
       "SEMIO_VERT                           6.591396\n",
       "SEMIO_LUST                           5.763245\n",
       "SEMIO_ERL                            4.508359\n",
       "SEMIO_KULT                           4.564190\n",
       "SEMIO_RAT                            1.935221\n",
       "SEMIO_KRIT                           2.933388\n",
       "SEMIO_DOM                            2.776350\n",
       "SEMIO_KAEM                           2.094078\n",
       "SEMIO_PFLICHT                        2.462499\n",
       "SEMIO_TRADV                          2.351980\n",
       "SOHO_KZ                              0.011943\n",
       "VERS_TYP                             1.501295\n",
       "ANZ_PERSONEN                         2.396313\n",
       "ANZ_TITEL                            0.013005\n",
       "HH_EINKOMMEN_SCORE                   2.457441\n",
       "                                      ...    \n",
       "SHOPPER_TYP_0.0                      0.386349\n",
       "SHOPPER_TYP_1.0                      0.263985\n",
       "SHOPPER_TYP_2.0                      0.105312\n",
       "SHOPPER_TYP_3.0                      0.291134\n",
       "ZABEOTYP_1                           0.616344\n",
       "ZABEOTYP_2                           0.035453\n",
       "ZABEOTYP_3                           0.479429\n",
       "ZABEOTYP_4                           0.032852\n",
       "ZABEOTYP_5                          -0.020025\n",
       "ZABEOTYP_6                           0.025060\n",
       "GEBAEUDETYP_1.0                      0.896454\n",
       "GEBAEUDETYP_2.0                      0.037991\n",
       "GEBAEUDETYP_3.0                      0.017032\n",
       "GEBAEUDETYP_4.0                      0.006328\n",
       "GEBAEUDETYP_5.0                      0.000012\n",
       "GEBAEUDETYP_6.0                      0.156356\n",
       "GEBAEUDETYP_8.0                      0.045302\n",
       "CAMEO_DEUG_2015_1                    0.147554\n",
       "CAMEO_DEUG_2015_2                    0.182572\n",
       "CAMEO_DEUG_2015_3                    0.261932\n",
       "CAMEO_DEUG_2015_4                    0.171721\n",
       "CAMEO_DEUG_2015_5                    0.147254\n",
       "CAMEO_DEUG_2015_6                    0.071440\n",
       "CAMEO_DEUG_2015_7                    0.077700\n",
       "CAMEO_DEUG_2015_8                   -0.017077\n",
       "CAMEO_DEUG_2015_9                    0.315491\n",
       "PRAEGENDE_JUGENDJAHRE_MAINSTREAM    66.137541\n",
       "PRAEGENDE_JUGENDJAHRE_DECADE         1.919903\n",
       "CAMEO_INTL_2015_WEALTH               2.682436\n",
       "CAMEO_INTL_2015_LIFESTAGE            0.240640\n",
       "Name: 16, Length: 148, dtype: float64"
      ]
     },
     "execution_count": 237,
     "metadata": {},
     "output_type": "execute_result"
    }
   ],
   "source": [
    "cluster_specs.iloc[16]"
   ]
  },
  {
   "cell_type": "code",
   "execution_count": 238,
   "metadata": {},
   "outputs": [
    {
     "data": {
      "text/plain": [
       "ALTERSKATEGORIE_GROB                 2.812396\n",
       "ANREDE_KZ                            0.807018\n",
       "FINANZ_MINIMALIST                    3.274497\n",
       "FINANZ_SPARER                        2.483177\n",
       "FINANZ_VORSORGER                     3.628851\n",
       "FINANZ_ANLEGER                       2.234668\n",
       "FINANZ_UNAUFFAELLIGER                2.766061\n",
       "FINANZ_HAUSBAUER                     3.239781\n",
       "GREEN_AVANTGARDE                     0.302391\n",
       "HEALTH_TYP                           2.136233\n",
       "RETOURTYP_BK_S                       3.329786\n",
       "SEMIO_SOZ                            6.310134\n",
       "SEMIO_FAM                            6.208629\n",
       "SEMIO_REL                            4.942483\n",
       "SEMIO_MAT                            4.751172\n",
       "SEMIO_VERT                           6.717811\n",
       "SEMIO_LUST                           4.579000\n",
       "SEMIO_ERL                            2.592390\n",
       "SEMIO_KULT                           6.337465\n",
       "SEMIO_RAT                            3.063689\n",
       "SEMIO_KRIT                           2.189480\n",
       "SEMIO_DOM                            2.504962\n",
       "SEMIO_KAEM                           1.838511\n",
       "SEMIO_PFLICHT                        4.119453\n",
       "SEMIO_TRADV                          3.776437\n",
       "SOHO_KZ                              0.008695\n",
       "VERS_TYP                             1.586128\n",
       "ANZ_PERSONEN                         1.873667\n",
       "ANZ_TITEL                            0.008171\n",
       "HH_EINKOMMEN_SCORE                   4.529266\n",
       "                                      ...    \n",
       "SHOPPER_TYP_0.0                      0.384773\n",
       "SHOPPER_TYP_1.0                      0.441938\n",
       "SHOPPER_TYP_2.0                     -0.016785\n",
       "SHOPPER_TYP_3.0                      0.185092\n",
       "ZABEOTYP_1                           0.371112\n",
       "ZABEOTYP_2                          -0.013121\n",
       "ZABEOTYP_3                           0.081660\n",
       "ZABEOTYP_4                           0.210689\n",
       "ZABEOTYP_5                           0.076745\n",
       "ZABEOTYP_6                           0.026872\n",
       "GEBAEUDETYP_1.0                      0.520214\n",
       "GEBAEUDETYP_2.0                      0.004396\n",
       "GEBAEUDETYP_3.0                      0.257438\n",
       "GEBAEUDETYP_4.0                      0.001014\n",
       "GEBAEUDETYP_5.0                      0.001402\n",
       "GEBAEUDETYP_6.0                      0.152187\n",
       "GEBAEUDETYP_8.0                      0.171351\n",
       "CAMEO_DEUG_2015_1                    0.069327\n",
       "CAMEO_DEUG_2015_2                    0.012796\n",
       "CAMEO_DEUG_2015_3                    0.035635\n",
       "CAMEO_DEUG_2015_4                   -0.004880\n",
       "CAMEO_DEUG_2015_5                    0.096330\n",
       "CAMEO_DEUG_2015_6                    0.067297\n",
       "CAMEO_DEUG_2015_7                    0.154301\n",
       "CAMEO_DEUG_2015_8                    0.133000\n",
       "CAMEO_DEUG_2015_9                    0.767798\n",
       "PRAEGENDE_JUGENDJAHRE_MAINSTREAM    64.072345\n",
       "PRAEGENDE_JUGENDJAHRE_DECADE         4.044860\n",
       "CAMEO_INTL_2015_WEALTH               4.506026\n",
       "CAMEO_INTL_2015_LIFESTAGE           -0.620737\n",
       "Name: 10, Length: 148, dtype: float64"
      ]
     },
     "execution_count": 238,
     "metadata": {},
     "output_type": "execute_result"
    }
   ],
   "source": [
    "cluster_specs.iloc[10]"
   ]
  },
  {
   "cell_type": "markdown",
   "metadata": {},
   "source": [
    "### Discussion 3.3: Compare Customer Data to Demographics Data\n",
    "\n",
    "From the `diff_df` it appears that **cluster 16** is the most over-represented in the customers data when when compared to population data. Cluster 16 represents 46 - 60 years old, male, not a financial minimalist, not financially be-prepared type, high affinity to save money and are likely home-buyers. They are below average socially and family minded, mostly prosperous from high-income households.\n",
    "\n",
    "From the `diff_df` it appears that **cluster 10** is the most under-represented in the customers data when when compared to population data. Cluster 10 represents 30 - 45 years old, male, average money saver types and with average financial outlook. They are very low socially and family minded with a combative attitude, coming from average income households."
   ]
  },
  {
   "cell_type": "markdown",
   "metadata": {},
   "source": [
    "> Congratulations on making it this far in the project! Before you finish, make sure to check through the entire notebook from top to bottom to make sure that your analysis follows a logical flow and all of your findings are documented in **Discussion** cells. Once you've checked over all of your work, you should export the notebook as an HTML document to submit for evaluation. You can do this from the menu, navigating to **File -> Download as -> HTML (.html)**. You will submit both that document and this notebook for your project submission."
   ]
  },
  {
   "cell_type": "code",
   "execution_count": null,
   "metadata": {},
   "outputs": [],
   "source": []
  }
 ],
 "metadata": {
  "kernelspec": {
   "display_name": "Python 3",
   "language": "python",
   "name": "python3"
  },
  "language_info": {
   "codemirror_mode": {
    "name": "ipython",
    "version": 3
   },
   "file_extension": ".py",
   "mimetype": "text/x-python",
   "name": "python",
   "nbconvert_exporter": "python",
   "pygments_lexer": "ipython3",
   "version": "3.6.3"
  }
 },
 "nbformat": 4,
 "nbformat_minor": 2
}
